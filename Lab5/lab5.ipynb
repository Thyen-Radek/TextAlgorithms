{
 "cells": [
  {
   "cell_type": "markdown",
   "metadata": {
    "collapsed": true,
    "pycharm": {
     "name": "#%% md\n"
    }
   },
   "source": [
    "## Wzorce 2d\n",
    "\n",
    "Biblioteki:"
   ]
  },
  {
   "cell_type": "code",
   "execution_count": 1,
   "outputs": [],
   "source": [
    "import numpy as np\n",
    "import pandas as pd\n",
    "from PIL import Image\n",
    "from time import perf_counter"
   ],
   "metadata": {
    "collapsed": false,
    "pycharm": {
     "name": "#%%\n"
    }
   }
  },
  {
   "cell_type": "markdown",
   "source": [
    "1. Zaimplementuj algorytm wyszukiwania wzorca 2-wymiarowego\n",
    "\n"
   ],
   "metadata": {
    "collapsed": false,
    "pycharm": {
     "name": "#%% md\n"
    }
   }
  },
  {
   "cell_type": "code",
   "execution_count": 2,
   "outputs": [],
   "source": [
    "def get_diff_columns(pattern):\n",
    "    columns = []\n",
    "    indexes = []\n",
    "    alphabet = set()\n",
    "    for i in range(len(pattern[0])):\n",
    "        col = []\n",
    "        for j in range(len(pattern)):\n",
    "            col.append(pattern[j][i])\n",
    "            alphabet.add(pattern[j][i])\n",
    "\n",
    "        if col in columns:\n",
    "            idx = columns.index(col)\n",
    "            indexes.append(idx)\n",
    "        else:\n",
    "            columns.append(col)\n",
    "            indexes.append(len(columns) - 1)\n",
    "    return columns, indexes, alphabet"
   ],
   "metadata": {
    "collapsed": false,
    "pycharm": {
     "name": "#%%\n"
    }
   }
  },
  {
   "cell_type": "code",
   "execution_count": 3,
   "outputs": [],
   "source": [
    "def vertical_automaton(columns, letters):\n",
    "    tt = [{}]\n",
    "    words = [[]]\n",
    "    states = [0] * len(columns)\n",
    "\n",
    "    for i in range(len(columns[0])):\n",
    "        for j in range(len(columns)):\n",
    "            if columns[j][i] in tt[states[j]]:\n",
    "                states[j] = tt[states[j]][columns[j][i]]\n",
    "            else:\n",
    "                tt[states[j]][columns[j][i]] = len(tt)\n",
    "                words.append(words[states[j]] + [columns[j][i]])\n",
    "                states[j] = len(tt)\n",
    "                tt.append({})\n",
    "\n",
    "    for i in range(len(tt)):\n",
    "        for l in letters:\n",
    "            if l not in tt[i]:\n",
    "                suffix = (words[i] + [l])[1:]\n",
    "                state = 0\n",
    "                for s in suffix:\n",
    "                    if s in tt[state]:\n",
    "                        state = tt[state][s]\n",
    "                    else:\n",
    "                        state = 0\n",
    "\n",
    "                tt[i][l] = state\n",
    "    return tt, states"
   ],
   "metadata": {
    "collapsed": false,
    "pycharm": {
     "name": "#%%\n"
    }
   }
  },
  {
   "cell_type": "code",
   "execution_count": 4,
   "outputs": [],
   "source": [
    "def horizontal_automaton(pattern, letters):\n",
    "    result = []\n",
    "    for state in range(len(pattern) + 1):\n",
    "        result.append({})\n",
    "        for l in letters:\n",
    "            next_state = min(len(pattern), state + 1)\n",
    "            while True:\n",
    "                if pattern[:next_state] == (pattern[:state] + [l])[state - next_state + 1:state + 1]:\n",
    "                    break\n",
    "                next_state -= 1\n",
    "            result[state][l] = next_state\n",
    "    return result"
   ],
   "metadata": {
    "collapsed": false,
    "pycharm": {
     "name": "#%%\n"
    }
   }
  },
  {
   "cell_type": "code",
   "execution_count": 5,
   "outputs": [],
   "source": [
    "def main_automaton(pattern):\n",
    "    columns, indexes, letters = get_diff_columns(pattern)\n",
    "    vertical_tt, vertical_states = vertical_automaton(columns, letters)\n",
    "\n",
    "    new_pattern = [vertical_states[indexes[i]] for i in range(len(indexes))]\n",
    "    horizontal_tt = horizontal_automaton(new_pattern, vertical_states)\n",
    "    horizontal_state = len(horizontal_tt) - 1\n",
    "    return vertical_tt, horizontal_tt, horizontal_state"
   ],
   "metadata": {
    "collapsed": false,
    "pycharm": {
     "name": "#%%\n"
    }
   }
  },
  {
   "cell_type": "code",
   "execution_count": 6,
   "outputs": [],
   "source": [
    "def pattern_matching_2d(text, pattern, automaton=None):\n",
    "    if automaton is None:\n",
    "        vertical_tt, horizontal_tt, horizontal_state = main_automaton(pattern)\n",
    "    else:\n",
    "        vertical_tt, horizontal_tt, horizontal_state = automaton\n",
    "\n",
    "    result = []\n",
    "    vertical_states = []\n",
    "    for i in range(len(text)):\n",
    "        if len(text[i]) < len(vertical_states):\n",
    "            vertical_states = vertical_states[:len(text[i])]\n",
    "        elif len(vertical_states) < len(text[i]):\n",
    "            vertical_states = vertical_states + [0] * (len(text[i]) - len(vertical_states))\n",
    "\n",
    "        new_horizontal_state = 0\n",
    "        for j in range(len(text[i])):\n",
    "            if text[i][j] in vertical_tt[vertical_states[j]]:\n",
    "                vertical_states[j] = vertical_tt[vertical_states[j]][text[i][j]]\n",
    "            else:\n",
    "                vertical_states[j] = 0\n",
    "            if vertical_states[j] in horizontal_tt[new_horizontal_state]:\n",
    "                new_horizontal_state = horizontal_tt[new_horizontal_state][vertical_states[j]]\n",
    "                if new_horizontal_state == horizontal_state:\n",
    "                    result.append((i - len(pattern) + 1, j - len(pattern[0]) + 1))\n",
    "            else:\n",
    "                new_horizontal_state = 0\n",
    "    return result"
   ],
   "metadata": {
    "collapsed": false,
    "pycharm": {
     "name": "#%%\n"
    }
   }
  },
  {
   "cell_type": "markdown",
   "source": [
    "2. Znajdź w załączonym pliku \"haystack.txt\" wszyskie sytuacje, gdy taka sama litera występuje na tej samej pozycji w dwóch kolejnych linijkach. Zwróć uwagę, na nierówną długość linii w pliku.\n"
   ],
   "metadata": {
    "collapsed": false,
    "pycharm": {
     "name": "#%% md\n"
    }
   }
  },
  {
   "cell_type": "code",
   "execution_count": 7,
   "outputs": [],
   "source": [
    "with open(\"haystack.txt\") as f:\n",
    "    text = f.readlines()"
   ],
   "metadata": {
    "collapsed": false,
    "pycharm": {
     "name": "#%%\n"
    }
   }
  },
  {
   "cell_type": "code",
   "execution_count": 8,
   "outputs": [
    {
     "name": "stdout",
     "output_type": "stream",
     "text": [
      "Given pattern: ['a', 'a']\n",
      "All indexes:\n",
      "[(0, 82), (3, 30), (5, 60), (6, 63), (20, 6), (28, 69), (31, 50), (31, 73), (33, 66), (37, 4), (52, 12), (53, 12), (53, 48), (56, 11), (57, 36), (58, 36), (59, 24), (64, 2), (64, 14), (64, 22), (65, 35), (69, 35), (76, 21), (76, 74), (77, 42), (77, 61), (78, 59), (79, 37)]\n",
      "----------------------------\n",
      "Given pattern: ['b', 'b']\n",
      "All indexes:\n",
      "[]\n",
      "----------------------------\n",
      "Given pattern: ['c', 'c']\n",
      "All indexes:\n",
      "[(3, 54), (10, 45), (13, 10), (41, 0), (68, 0), (82, 41)]\n",
      "----------------------------\n",
      "Given pattern: ['d', 'd']\n",
      "All indexes:\n",
      "[(37, 19)]\n",
      "----------------------------\n",
      "Given pattern: ['e', 'e']\n",
      "All indexes:\n",
      "[(0, 63), (1, 8), (4, 77), (7, 65), (10, 1), (10, 64), (14, 2), (15, 43), (17, 6), (18, 27), (20, 10), (21, 61), (22, 53), (24, 3), (24, 65), (28, 67), (28, 73), (29, 38), (29, 43), (37, 48), (40, 11), (40, 26), (41, 57), (42, 36), (42, 48), (46, 52), (47, 50), (51, 31), (57, 54), (58, 50), (58, 54), (59, 73), (63, 66), (65, 69), (66, 72), (67, 17), (68, 46), (69, 15), (70, 49), (71, 38), (72, 23), (73, 27), (76, 6), (77, 6), (78, 65), (80, 6), (81, 14), (82, 47)]\n",
      "----------------------------\n",
      "Given pattern: ['f', 'f']\n",
      "All indexes:\n",
      "[(30, 59), (77, 1)]\n",
      "----------------------------\n",
      "Given pattern: ['g', 'g']\n",
      "All indexes:\n",
      "[]\n",
      "----------------------------\n",
      "Given pattern: ['h', 'h']\n",
      "All indexes:\n",
      "[(27, 2), (37, 2), (56, 31), (73, 12)]\n",
      "----------------------------\n",
      "Given pattern: ['i', 'i']\n",
      "All indexes:\n",
      "[(1, 5), (8, 37), (9, 60), (19, 55), (31, 0), (31, 31), (44, 33), (52, 69), (55, 17), (60, 45), (68, 51), (73, 13), (77, 13)]\n",
      "----------------------------\n",
      "Given pattern: ['j', 'j']\n",
      "All indexes:\n",
      "[]\n",
      "----------------------------\n",
      "Given pattern: ['k', 'k']\n",
      "All indexes:\n",
      "[]\n",
      "----------------------------\n",
      "Given pattern: ['l', 'l']\n",
      "All indexes:\n",
      "[(28, 72), (33, 45), (41, 77), (46, 61), (53, 45)]\n",
      "----------------------------\n",
      "Given pattern: ['m', 'm']\n",
      "All indexes:\n",
      "[(16, 5), (28, 70), (34, 40), (34, 60), (44, 0)]\n",
      "----------------------------\n",
      "Given pattern: ['n', 'n']\n",
      "All indexes:\n",
      "[(0, 83), (1, 9), (14, 54), (19, 37), (20, 56), (21, 62), (31, 1), (35, 18), (51, 32), (54, 33), (56, 13), (64, 29), (67, 35), (67, 40), (67, 57)]\n",
      "----------------------------\n",
      "Given pattern: ['o', 'o']\n",
      "All indexes:\n",
      "[(4, 75), (5, 66), (6, 38), (7, 38), (10, 27), (15, 60), (27, 17), (28, 17), (30, 58), (32, 34), (33, 11), (33, 26), (41, 1), (44, 55), (50, 2), (52, 8), (53, 1), (58, 45), (71, 42), (79, 10), (81, 52)]\n",
      "----------------------------\n",
      "Given pattern: ['p', 'p']\n",
      "All indexes:\n",
      "[(28, 71), (41, 18)]\n",
      "----------------------------\n",
      "Given pattern: ['q', 'q']\n",
      "All indexes:\n",
      "[]\n",
      "----------------------------\n",
      "Given pattern: ['r', 'r']\n",
      "All indexes:\n",
      "[(1, 4), (6, 39), (6, 50), (7, 13), (15, 18), (17, 14), (19, 54), (20, 54), (28, 65), (31, 70), (33, 10), (33, 37), (43, 25), (46, 42), (47, 37), (52, 5), (55, 40), (60, 30), (62, 39), (67, 29), (69, 22)]\n",
      "----------------------------\n",
      "Given pattern: ['s', 's']\n",
      "All indexes:\n",
      "[(3, 57), (3, 63), (4, 49), (8, 21), (9, 58), (28, 45), (29, 56), (30, 56), (37, 34), (40, 63), (45, 34), (46, 44), (49, 14), (52, 53), (54, 0), (67, 37), (70, 41), (71, 24), (79, 24)]\n",
      "----------------------------\n",
      "Given pattern: ['t', 't']\n",
      "All indexes:\n",
      "[(0, 7), (1, 6), (1, 7), (3, 37), (4, 14), (4, 23), (7, 29), (8, 75), (13, 55), (15, 12), (16, 3), (19, 33), (22, 8), (23, 4), (24, 4), (27, 31), (28, 23), (28, 52), (30, 16), (35, 10), (37, 0), (41, 45), (41, 73), (46, 24), (50, 0), (51, 33), (52, 61), (54, 11), (55, 54), (58, 49), (58, 78), (59, 33), (59, 75), (61, 56), (67, 71), (69, 5), (71, 3), (72, 3), (72, 10), (72, 59), (77, 22)]\n",
      "----------------------------\n",
      "Given pattern: ['u', 'u']\n",
      "All indexes:\n",
      "[]\n",
      "----------------------------\n",
      "Given pattern: ['v', 'v']\n",
      "All indexes:\n",
      "[]\n",
      "----------------------------\n",
      "Given pattern: ['w', 'w']\n",
      "All indexes:\n",
      "[(1, 3), (21, 70)]\n",
      "----------------------------\n",
      "Given pattern: ['x', 'x']\n",
      "All indexes:\n",
      "[(28, 68)]\n",
      "----------------------------\n",
      "Given pattern: ['y', 'y']\n",
      "All indexes:\n",
      "[(44, 5)]\n",
      "----------------------------\n",
      "Given pattern: ['z', 'z']\n",
      "All indexes:\n",
      "[]\n",
      "----------------------------\n"
     ]
    }
   ],
   "source": [
    "for i in range(ord(\"a\"), ord(\"z\") + 1):\n",
    "    pattern = [chr(i), chr(i)]\n",
    "    result = pattern_matching_2d(text, pattern)\n",
    "    print(f\"Given pattern: {pattern}\")\n",
    "    print(f\"All indexes:\\n{result}\")\n",
    "    print(\"----------------------------\")"
   ],
   "metadata": {
    "collapsed": false,
    "pycharm": {
     "name": "#%%\n"
    }
   }
  },
  {
   "cell_type": "markdown",
   "source": [
    "3. Znajdź wszystkie wystąpienia \"th\" oraz \"t h\" w dwóch kolejnych liniach na tej samej pozycji.\n",
    "\n"
   ],
   "metadata": {
    "collapsed": false,
    "pycharm": {
     "name": "#%% md\n"
    }
   }
  },
  {
   "cell_type": "code",
   "execution_count": 10,
   "outputs": [
    {
     "data": {
      "text/plain": "[]"
     },
     "execution_count": 10,
     "metadata": {},
     "output_type": "execute_result"
    }
   ],
   "source": [
    "pattern_matching_2d(text, [\"th\", \"th\"])"
   ],
   "metadata": {
    "collapsed": false,
    "pycharm": {
     "name": "#%%\n"
    }
   }
  },
  {
   "cell_type": "code",
   "execution_count": 11,
   "outputs": [
    {
     "data": {
      "text/plain": "[(37, 0)]"
     },
     "execution_count": 11,
     "metadata": {},
     "output_type": "execute_result"
    }
   ],
   "source": [
    "pattern_matching_2d(text, [\"t h\", \"t h\"])"
   ],
   "metadata": {
    "collapsed": false,
    "pycharm": {
     "name": "#%%\n"
    }
   }
  },
  {
   "cell_type": "markdown",
   "source": [
    "4. Wybierz przynajmniej 4 litery (małe). Znajdź wszystkie wystąpienia tej litery w załączonym pliku \"haystack.png\"\n"
   ],
   "metadata": {
    "collapsed": false,
    "pycharm": {
     "name": "#%% md\n"
    }
   }
  },
  {
   "cell_type": "code",
   "execution_count": 12,
   "outputs": [],
   "source": [
    "def convert_image(file_name):\n",
    "    image = Image.open(file_name)\n",
    "    pixels = list(image.getdata())\n",
    "    width, height = image.size\n",
    "    text = []\n",
    "    i = width\n",
    "    for pixel in pixels:\n",
    "        if i == width:\n",
    "            i = 0\n",
    "            text.append([])\n",
    "        text[-1].append(pixel[0])\n",
    "        i += 1\n",
    "    return text"
   ],
   "metadata": {
    "collapsed": false,
    "pycharm": {
     "name": "#%%\n"
    }
   }
  },
  {
   "cell_type": "code",
   "execution_count": 13,
   "outputs": [],
   "source": [
    "text = convert_image(\"haystack.png\")"
   ],
   "metadata": {
    "collapsed": false,
    "pycharm": {
     "name": "#%%\n"
    }
   }
  },
  {
   "cell_type": "markdown",
   "source": [
    "Litera: c\n"
   ],
   "metadata": {
    "collapsed": false,
    "pycharm": {
     "name": "#%% md\n"
    }
   }
  },
  {
   "cell_type": "code",
   "execution_count": 15,
   "outputs": [
    {
     "data": {
      "text/plain": "[[255,\n  255,\n  255,\n  255,\n  255,\n  255,\n  255,\n  255,\n  255,\n  255,\n  255,\n  255,\n  255,\n  255,\n  255,\n  255,\n  255,\n  255,\n  255,\n  255,\n  255,\n  255,\n  255,\n  255,\n  255,\n  255],\n [255,\n  255,\n  255,\n  255,\n  255,\n  255,\n  255,\n  255,\n  255,\n  255,\n  255,\n  255,\n  255,\n  255,\n  255,\n  255,\n  255,\n  255,\n  255,\n  255,\n  255,\n  255,\n  255,\n  255,\n  255,\n  255],\n [255,\n  255,\n  255,\n  255,\n  255,\n  255,\n  255,\n  255,\n  255,\n  255,\n  255,\n  255,\n  255,\n  255,\n  255,\n  255,\n  255,\n  255,\n  255,\n  255,\n  255,\n  255,\n  255,\n  255,\n  255,\n  255],\n [255,\n  255,\n  255,\n  255,\n  255,\n  255,\n  255,\n  255,\n  255,\n  255,\n  255,\n  255,\n  255,\n  255,\n  255,\n  255,\n  255,\n  255,\n  255,\n  255,\n  255,\n  255,\n  255,\n  255,\n  255,\n  255],\n [255,\n  255,\n  255,\n  255,\n  255,\n  255,\n  255,\n  255,\n  255,\n  255,\n  255,\n  255,\n  255,\n  255,\n  255,\n  255,\n  255,\n  255,\n  255,\n  255,\n  255,\n  255,\n  255,\n  255,\n  255,\n  255],\n [255,\n  255,\n  255,\n  255,\n  255,\n  255,\n  248,\n  248,\n  135,\n  135,\n  135,\n  45,\n  45,\n  8,\n  8,\n  24,\n  24,\n  24,\n  86,\n  86,\n  214,\n  214,\n  214,\n  255,\n  255,\n  255],\n [255,\n  255,\n  255,\n  255,\n  255,\n  255,\n  248,\n  248,\n  135,\n  135,\n  135,\n  45,\n  45,\n  8,\n  8,\n  24,\n  24,\n  24,\n  86,\n  86,\n  214,\n  214,\n  214,\n  255,\n  255,\n  255],\n [255,\n  255,\n  255,\n  255,\n  255,\n  255,\n  248,\n  248,\n  135,\n  135,\n  135,\n  45,\n  45,\n  8,\n  8,\n  24,\n  24,\n  24,\n  86,\n  86,\n  214,\n  214,\n  214,\n  255,\n  255,\n  255],\n [255,\n  255,\n  255,\n  249,\n  249,\n  249,\n  61,\n  61,\n  0,\n  0,\n  0,\n  0,\n  0,\n  0,\n  0,\n  0,\n  0,\n  0,\n  0,\n  0,\n  55,\n  55,\n  55,\n  255,\n  255,\n  255],\n [255,\n  255,\n  255,\n  249,\n  249,\n  249,\n  61,\n  61,\n  0,\n  0,\n  0,\n  0,\n  0,\n  0,\n  0,\n  0,\n  0,\n  0,\n  0,\n  0,\n  55,\n  55,\n  55,\n  255,\n  255,\n  255],\n [255,\n  255,\n  255,\n  136,\n  136,\n  136,\n  0,\n  0,\n  40,\n  40,\n  40,\n  180,\n  180,\n  236,\n  236,\n  233,\n  233,\n  233,\n  171,\n  171,\n  98,\n  98,\n  98,\n  255,\n  255,\n  255],\n [255,\n  255,\n  255,\n  136,\n  136,\n  136,\n  0,\n  0,\n  40,\n  40,\n  40,\n  180,\n  180,\n  236,\n  236,\n  233,\n  233,\n  233,\n  171,\n  171,\n  98,\n  98,\n  98,\n  255,\n  255,\n  255],\n [255,\n  255,\n  255,\n  136,\n  136,\n  136,\n  0,\n  0,\n  40,\n  40,\n  40,\n  180,\n  180,\n  236,\n  236,\n  233,\n  233,\n  233,\n  171,\n  171,\n  98,\n  98,\n  98,\n  255,\n  255,\n  255],\n [255,\n  255,\n  255,\n  46,\n  46,\n  46,\n  8,\n  8,\n  222,\n  222,\n  222,\n  255,\n  255,\n  255,\n  255,\n  255,\n  255,\n  255,\n  255,\n  255,\n  255,\n  255,\n  255,\n  255,\n  255,\n  255],\n [255,\n  255,\n  255,\n  46,\n  46,\n  46,\n  8,\n  8,\n  222,\n  222,\n  222,\n  255,\n  255,\n  255,\n  255,\n  255,\n  255,\n  255,\n  255,\n  255,\n  255,\n  255,\n  255,\n  255,\n  255,\n  255],\n [255,\n  255,\n  255,\n  9,\n  9,\n  9,\n  54,\n  54,\n  255,\n  255,\n  255,\n  255,\n  255,\n  255,\n  255,\n  255,\n  255,\n  255,\n  255,\n  255,\n  255,\n  255,\n  255,\n  255,\n  255,\n  255],\n [255,\n  255,\n  255,\n  9,\n  9,\n  9,\n  54,\n  54,\n  255,\n  255,\n  255,\n  255,\n  255,\n  255,\n  255,\n  255,\n  255,\n  255,\n  255,\n  255,\n  255,\n  255,\n  255,\n  255,\n  255,\n  255],\n [255,\n  255,\n  255,\n  8,\n  8,\n  8,\n  54,\n  54,\n  255,\n  255,\n  255,\n  255,\n  255,\n  255,\n  255,\n  255,\n  255,\n  255,\n  255,\n  255,\n  255,\n  255,\n  255,\n  255,\n  255,\n  255],\n [255,\n  255,\n  255,\n  8,\n  8,\n  8,\n  54,\n  54,\n  255,\n  255,\n  255,\n  255,\n  255,\n  255,\n  255,\n  255,\n  255,\n  255,\n  255,\n  255,\n  255,\n  255,\n  255,\n  255,\n  255,\n  255],\n [255,\n  255,\n  255,\n  8,\n  8,\n  8,\n  54,\n  54,\n  255,\n  255,\n  255,\n  255,\n  255,\n  255,\n  255,\n  255,\n  255,\n  255,\n  255,\n  255,\n  255,\n  255,\n  255,\n  255,\n  255,\n  255],\n [255,\n  255,\n  255,\n  46,\n  46,\n  46,\n  8,\n  8,\n  223,\n  223,\n  223,\n  255,\n  255,\n  255,\n  255,\n  255,\n  255,\n  255,\n  255,\n  255,\n  255,\n  255,\n  255,\n  255,\n  255,\n  255],\n [255,\n  255,\n  255,\n  46,\n  46,\n  46,\n  8,\n  8,\n  223,\n  223,\n  223,\n  255,\n  255,\n  255,\n  255,\n  255,\n  255,\n  255,\n  255,\n  255,\n  255,\n  255,\n  255,\n  255,\n  255,\n  255],\n [255,\n  255,\n  255,\n  136,\n  136,\n  136,\n  0,\n  0,\n  42,\n  42,\n  42,\n  182,\n  182,\n  237,\n  237,\n  233,\n  233,\n  233,\n  171,\n  171,\n  98,\n  98,\n  98,\n  255,\n  255,\n  255],\n [255,\n  255,\n  255,\n  136,\n  136,\n  136,\n  0,\n  0,\n  42,\n  42,\n  42,\n  182,\n  182,\n  237,\n  237,\n  233,\n  233,\n  233,\n  171,\n  171,\n  98,\n  98,\n  98,\n  255,\n  255,\n  255],\n [255,\n  255,\n  255,\n  136,\n  136,\n  136,\n  0,\n  0,\n  42,\n  42,\n  42,\n  182,\n  182,\n  237,\n  237,\n  233,\n  233,\n  233,\n  171,\n  171,\n  98,\n  98,\n  98,\n  255,\n  255,\n  255],\n [255,\n  255,\n  255,\n  248,\n  248,\n  248,\n  58,\n  58,\n  0,\n  0,\n  0,\n  0,\n  0,\n  0,\n  0,\n  0,\n  0,\n  0,\n  0,\n  0,\n  55,\n  55,\n  55,\n  255,\n  255,\n  255],\n [255,\n  255,\n  255,\n  248,\n  248,\n  248,\n  58,\n  58,\n  0,\n  0,\n  0,\n  0,\n  0,\n  0,\n  0,\n  0,\n  0,\n  0,\n  0,\n  0,\n  55,\n  55,\n  55,\n  255,\n  255,\n  255],\n [255,\n  255,\n  255,\n  255,\n  255,\n  255,\n  247,\n  247,\n  130,\n  130,\n  130,\n  41,\n  41,\n  7,\n  7,\n  26,\n  26,\n  26,\n  87,\n  87,\n  214,\n  214,\n  214,\n  255,\n  255,\n  255],\n [255,\n  255,\n  255,\n  255,\n  255,\n  255,\n  247,\n  247,\n  130,\n  130,\n  130,\n  41,\n  41,\n  7,\n  7,\n  26,\n  26,\n  26,\n  87,\n  87,\n  214,\n  214,\n  214,\n  255,\n  255,\n  255],\n [255,\n  255,\n  255,\n  255,\n  255,\n  255,\n  255,\n  255,\n  255,\n  255,\n  255,\n  255,\n  255,\n  255,\n  255,\n  255,\n  255,\n  255,\n  255,\n  255,\n  255,\n  255,\n  255,\n  255,\n  255,\n  255]]"
     },
     "execution_count": 15,
     "metadata": {},
     "output_type": "execute_result"
    }
   ],
   "source": [
    "c = convert_image(\"patterns/c.png\")\n",
    "c\n"
   ],
   "metadata": {
    "collapsed": false,
    "pycharm": {
     "name": "#%%\n"
    }
   }
  },
  {
   "cell_type": "code",
   "execution_count": null,
   "outputs": [],
   "source": [],
   "metadata": {
    "collapsed": false,
    "pycharm": {
     "name": "#%%\n"
    }
   }
  }
 ],
 "metadata": {
  "kernelspec": {
   "display_name": "Python 3",
   "language": "python",
   "name": "python3"
  },
  "language_info": {
   "codemirror_mode": {
    "name": "ipython",
    "version": 2
   },
   "file_extension": ".py",
   "mimetype": "text/x-python",
   "name": "python",
   "nbconvert_exporter": "python",
   "pygments_lexer": "ipython2",
   "version": "2.7.6"
  }
 },
 "nbformat": 4,
 "nbformat_minor": 0
}