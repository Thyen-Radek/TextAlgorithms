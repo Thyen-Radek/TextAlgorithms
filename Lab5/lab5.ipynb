{
 "cells": [
  {
   "cell_type": "markdown",
   "metadata": {
    "collapsed": true,
    "pycharm": {
     "name": "#%% md\n"
    }
   },
   "source": [
    "## Wzorce 2d\n",
    "\n",
    "Biblioteki:"
   ]
  },
  {
   "cell_type": "code",
   "execution_count": 1,
   "outputs": [],
   "source": [
    "import numpy as np\n",
    "import pandas as pd\n",
    "from PIL import Image\n",
    "from time import perf_counter\n",
    "from random import randint"
   ],
   "metadata": {
    "collapsed": false,
    "pycharm": {
     "name": "#%%\n"
    }
   }
  },
  {
   "cell_type": "markdown",
   "source": [
    "1. Zaimplementuj algorytm wyszukiwania wzorca 2-wymiarowego\n",
    "\n"
   ],
   "metadata": {
    "collapsed": false,
    "pycharm": {
     "name": "#%% md\n"
    }
   }
  },
  {
   "cell_type": "code",
   "execution_count": 2,
   "outputs": [],
   "source": [
    "def get_diff_columns(pattern):\n",
    "    columns = []\n",
    "    indexes = []\n",
    "    alphabet = set()\n",
    "    for i in range(len(pattern[0])):\n",
    "        col = []\n",
    "        for j in range(len(pattern)):\n",
    "            col.append(pattern[j][i])\n",
    "            alphabet.add(pattern[j][i])\n",
    "\n",
    "        if col in columns:\n",
    "            idx = columns.index(col)\n",
    "            indexes.append(idx)\n",
    "        else:\n",
    "            columns.append(col)\n",
    "            indexes.append(len(columns) - 1)\n",
    "    return columns, indexes, alphabet"
   ],
   "metadata": {
    "collapsed": false,
    "pycharm": {
     "name": "#%%\n"
    }
   }
  },
  {
   "cell_type": "code",
   "execution_count": 3,
   "outputs": [],
   "source": [
    "def vertical_automaton(columns, letters):\n",
    "    tt = [{}]\n",
    "    words = [[]]\n",
    "    states = [0] * len(columns)\n",
    "\n",
    "    for i in range(len(columns[0])):\n",
    "        for j in range(len(columns)):\n",
    "            if columns[j][i] in tt[states[j]]:\n",
    "                states[j] = tt[states[j]][columns[j][i]]\n",
    "            else:\n",
    "                tt[states[j]][columns[j][i]] = len(tt)\n",
    "                words.append(words[states[j]] + [columns[j][i]])\n",
    "                states[j] = len(tt)\n",
    "                tt.append({})\n",
    "\n",
    "    for i in range(len(tt)):\n",
    "        for l in letters:\n",
    "            if l not in tt[i]:\n",
    "                suffix = (words[i] + [l])[1:]\n",
    "                state = 0\n",
    "                for s in suffix:\n",
    "                    if s in tt[state]:\n",
    "                        state = tt[state][s]\n",
    "                    else:\n",
    "                        state = 0\n",
    "\n",
    "                tt[i][l] = state\n",
    "    return tt, states"
   ],
   "metadata": {
    "collapsed": false,
    "pycharm": {
     "name": "#%%\n"
    }
   }
  },
  {
   "cell_type": "code",
   "execution_count": 4,
   "outputs": [],
   "source": [
    "def horizontal_automaton(pattern, letters):\n",
    "    result = []\n",
    "    for state in range(len(pattern) + 1):\n",
    "        result.append({})\n",
    "        for l in letters:\n",
    "            next_state = min(len(pattern), state + 1)\n",
    "            while True:\n",
    "                if pattern[:next_state] == (pattern[:state] + [l])[state - next_state + 1:state + 1]:\n",
    "                    break\n",
    "                next_state -= 1\n",
    "            result[state][l] = next_state\n",
    "    return result"
   ],
   "metadata": {
    "collapsed": false,
    "pycharm": {
     "name": "#%%\n"
    }
   }
  },
  {
   "cell_type": "code",
   "execution_count": 5,
   "outputs": [],
   "source": [
    "def main_automaton(pattern):\n",
    "    columns, indexes, letters = get_diff_columns(pattern)\n",
    "    vertical_tt, vertical_states = vertical_automaton(columns, letters)\n",
    "\n",
    "    new_pattern = [vertical_states[indexes[i]] for i in range(len(indexes))]\n",
    "    horizontal_tt = horizontal_automaton(new_pattern, vertical_states)\n",
    "    horizontal_state = len(horizontal_tt) - 1\n",
    "    return vertical_tt, horizontal_tt, horizontal_state"
   ],
   "metadata": {
    "collapsed": false,
    "pycharm": {
     "name": "#%%\n"
    }
   }
  },
  {
   "cell_type": "code",
   "execution_count": 6,
   "outputs": [],
   "source": [
    "def pattern_matching_2d(text, pattern, automaton=None):\n",
    "    if automaton is None:\n",
    "        vertical_tt, horizontal_tt, horizontal_state = main_automaton(pattern)\n",
    "    else:\n",
    "        vertical_tt, horizontal_tt, horizontal_state = automaton\n",
    "\n",
    "    result = []\n",
    "    vertical_states = []\n",
    "    for i in range(len(text)):\n",
    "        if len(text[i]) < len(vertical_states):\n",
    "            vertical_states = vertical_states[:len(text[i])]\n",
    "        elif len(vertical_states) < len(text[i]):\n",
    "            vertical_states = vertical_states + [0] * (len(text[i]) - len(vertical_states))\n",
    "\n",
    "        new_horizontal_state = 0\n",
    "        for j in range(len(text[i])):\n",
    "            if text[i][j] in vertical_tt[vertical_states[j]]:\n",
    "                vertical_states[j] = vertical_tt[vertical_states[j]][text[i][j]]\n",
    "            else:\n",
    "                vertical_states[j] = 0\n",
    "            if vertical_states[j] in horizontal_tt[new_horizontal_state]:\n",
    "                new_horizontal_state = horizontal_tt[new_horizontal_state][vertical_states[j]]\n",
    "                if new_horizontal_state == horizontal_state:\n",
    "                    result.append((i - len(pattern) + 1, j - len(pattern[0]) + 1))\n",
    "            else:\n",
    "                new_horizontal_state = 0\n",
    "    return result"
   ],
   "metadata": {
    "collapsed": false,
    "pycharm": {
     "name": "#%%\n"
    }
   }
  },
  {
   "cell_type": "markdown",
   "source": [
    "2. Znajdź w załączonym pliku \"haystack.txt\" wszyskie sytuacje, gdy taka sama litera występuje na tej samej pozycji w dwóch kolejnych linijkach. Zwróć uwagę, na nierówną długość linii w pliku.\n"
   ],
   "metadata": {
    "collapsed": false,
    "pycharm": {
     "name": "#%% md\n"
    }
   }
  },
  {
   "cell_type": "code",
   "execution_count": 7,
   "outputs": [],
   "source": [
    "with open(\"haystack.txt\") as f:\n",
    "    text = f.readlines()"
   ],
   "metadata": {
    "collapsed": false,
    "pycharm": {
     "name": "#%%\n"
    }
   }
  },
  {
   "cell_type": "code",
   "execution_count": 8,
   "outputs": [
    {
     "name": "stdout",
     "output_type": "stream",
     "text": [
      "Given pattern: ['a', 'a']\n",
      "All indexes:\n",
      "[(0, 82), (3, 30), (5, 60), (6, 63), (20, 6), (28, 69), (31, 50), (31, 73), (33, 66), (37, 4), (52, 12), (53, 12), (53, 48), (56, 11), (57, 36), (58, 36), (59, 24), (64, 2), (64, 14), (64, 22), (65, 35), (69, 35), (76, 21), (76, 74), (77, 42), (77, 61), (78, 59), (79, 37)]\n",
      "----------------------------\n",
      "Given pattern: ['b', 'b']\n",
      "All indexes:\n",
      "[]\n",
      "----------------------------\n",
      "Given pattern: ['c', 'c']\n",
      "All indexes:\n",
      "[(3, 54), (10, 45), (13, 10), (41, 0), (68, 0), (82, 41)]\n",
      "----------------------------\n",
      "Given pattern: ['d', 'd']\n",
      "All indexes:\n",
      "[(37, 19)]\n",
      "----------------------------\n",
      "Given pattern: ['e', 'e']\n",
      "All indexes:\n",
      "[(0, 63), (1, 8), (4, 77), (7, 65), (10, 1), (10, 64), (14, 2), (15, 43), (17, 6), (18, 27), (20, 10), (21, 61), (22, 53), (24, 3), (24, 65), (28, 67), (28, 73), (29, 38), (29, 43), (37, 48), (40, 11), (40, 26), (41, 57), (42, 36), (42, 48), (46, 52), (47, 50), (51, 31), (57, 54), (58, 50), (58, 54), (59, 73), (63, 66), (65, 69), (66, 72), (67, 17), (68, 46), (69, 15), (70, 49), (71, 38), (72, 23), (73, 27), (76, 6), (77, 6), (78, 65), (80, 6), (81, 14), (82, 47)]\n",
      "----------------------------\n",
      "Given pattern: ['f', 'f']\n",
      "All indexes:\n",
      "[(30, 59), (77, 1)]\n",
      "----------------------------\n",
      "Given pattern: ['g', 'g']\n",
      "All indexes:\n",
      "[]\n",
      "----------------------------\n",
      "Given pattern: ['h', 'h']\n",
      "All indexes:\n",
      "[(27, 2), (37, 2), (56, 31), (73, 12)]\n",
      "----------------------------\n",
      "Given pattern: ['i', 'i']\n",
      "All indexes:\n",
      "[(1, 5), (8, 37), (9, 60), (19, 55), (31, 0), (31, 31), (44, 33), (52, 69), (55, 17), (60, 45), (68, 51), (73, 13), (77, 13)]\n",
      "----------------------------\n",
      "Given pattern: ['j', 'j']\n",
      "All indexes:\n",
      "[]\n",
      "----------------------------\n",
      "Given pattern: ['k', 'k']\n",
      "All indexes:\n",
      "[]\n",
      "----------------------------\n",
      "Given pattern: ['l', 'l']\n",
      "All indexes:\n",
      "[(28, 72), (33, 45), (41, 77), (46, 61), (53, 45)]\n",
      "----------------------------\n",
      "Given pattern: ['m', 'm']\n",
      "All indexes:\n",
      "[(16, 5), (28, 70), (34, 40), (34, 60), (44, 0)]\n",
      "----------------------------\n",
      "Given pattern: ['n', 'n']\n",
      "All indexes:\n",
      "[(0, 83), (1, 9), (14, 54), (19, 37), (20, 56), (21, 62), (31, 1), (35, 18), (51, 32), (54, 33), (56, 13), (64, 29), (67, 35), (67, 40), (67, 57)]\n",
      "----------------------------\n",
      "Given pattern: ['o', 'o']\n",
      "All indexes:\n",
      "[(4, 75), (5, 66), (6, 38), (7, 38), (10, 27), (15, 60), (27, 17), (28, 17), (30, 58), (32, 34), (33, 11), (33, 26), (41, 1), (44, 55), (50, 2), (52, 8), (53, 1), (58, 45), (71, 42), (79, 10), (81, 52)]\n",
      "----------------------------\n",
      "Given pattern: ['p', 'p']\n",
      "All indexes:\n",
      "[(28, 71), (41, 18)]\n",
      "----------------------------\n",
      "Given pattern: ['q', 'q']\n",
      "All indexes:\n",
      "[]\n",
      "----------------------------\n",
      "Given pattern: ['r', 'r']\n",
      "All indexes:\n",
      "[(1, 4), (6, 39), (6, 50), (7, 13), (15, 18), (17, 14), (19, 54), (20, 54), (28, 65), (31, 70), (33, 10), (33, 37), (43, 25), (46, 42), (47, 37), (52, 5), (55, 40), (60, 30), (62, 39), (67, 29), (69, 22)]\n",
      "----------------------------\n",
      "Given pattern: ['s', 's']\n",
      "All indexes:\n",
      "[(3, 57), (3, 63), (4, 49), (8, 21), (9, 58), (28, 45), (29, 56), (30, 56), (37, 34), (40, 63), (45, 34), (46, 44), (49, 14), (52, 53), (54, 0), (67, 37), (70, 41), (71, 24), (79, 24)]\n",
      "----------------------------\n",
      "Given pattern: ['t', 't']\n",
      "All indexes:\n",
      "[(0, 7), (1, 6), (1, 7), (3, 37), (4, 14), (4, 23), (7, 29), (8, 75), (13, 55), (15, 12), (16, 3), (19, 33), (22, 8), (23, 4), (24, 4), (27, 31), (28, 23), (28, 52), (30, 16), (35, 10), (37, 0), (41, 45), (41, 73), (46, 24), (50, 0), (51, 33), (52, 61), (54, 11), (55, 54), (58, 49), (58, 78), (59, 33), (59, 75), (61, 56), (67, 71), (69, 5), (71, 3), (72, 3), (72, 10), (72, 59), (77, 22)]\n",
      "----------------------------\n",
      "Given pattern: ['u', 'u']\n",
      "All indexes:\n",
      "[]\n",
      "----------------------------\n",
      "Given pattern: ['v', 'v']\n",
      "All indexes:\n",
      "[]\n",
      "----------------------------\n",
      "Given pattern: ['w', 'w']\n",
      "All indexes:\n",
      "[(1, 3), (21, 70)]\n",
      "----------------------------\n",
      "Given pattern: ['x', 'x']\n",
      "All indexes:\n",
      "[(28, 68)]\n",
      "----------------------------\n",
      "Given pattern: ['y', 'y']\n",
      "All indexes:\n",
      "[(44, 5)]\n",
      "----------------------------\n",
      "Given pattern: ['z', 'z']\n",
      "All indexes:\n",
      "[]\n",
      "----------------------------\n"
     ]
    }
   ],
   "source": [
    "for i in range(ord(\"a\"), ord(\"z\") + 1):\n",
    "    pattern = [chr(i), chr(i)]\n",
    "    result = pattern_matching_2d(text, pattern)\n",
    "    print(f\"Given pattern: {pattern}\")\n",
    "    print(f\"All indexes:\\n{result}\")\n",
    "    print(\"----------------------------\")"
   ],
   "metadata": {
    "collapsed": false,
    "pycharm": {
     "name": "#%%\n"
    }
   }
  },
  {
   "cell_type": "markdown",
   "source": [
    "3. Znajdź wszystkie wystąpienia \"th\" oraz \"t h\" w dwóch kolejnych liniach na tej samej pozycji.\n",
    "\n"
   ],
   "metadata": {
    "collapsed": false,
    "pycharm": {
     "name": "#%% md\n"
    }
   }
  },
  {
   "cell_type": "code",
   "execution_count": 9,
   "outputs": [
    {
     "data": {
      "text/plain": "[]"
     },
     "execution_count": 9,
     "metadata": {},
     "output_type": "execute_result"
    }
   ],
   "source": [
    "pattern_matching_2d(text, [\"th\", \"th\"])"
   ],
   "metadata": {
    "collapsed": false,
    "pycharm": {
     "name": "#%%\n"
    }
   }
  },
  {
   "cell_type": "code",
   "execution_count": 10,
   "outputs": [
    {
     "data": {
      "text/plain": "[(37, 0)]"
     },
     "execution_count": 10,
     "metadata": {},
     "output_type": "execute_result"
    }
   ],
   "source": [
    "pattern_matching_2d(text, [\"t h\", \"t h\"])"
   ],
   "metadata": {
    "collapsed": false,
    "pycharm": {
     "name": "#%%\n"
    }
   }
  },
  {
   "cell_type": "markdown",
   "source": [
    "4. Wybierz przynajmniej 4 litery (małe). Znajdź wszystkie wystąpienia tej litery w załączonym pliku \"haystack.png\"\n"
   ],
   "metadata": {
    "collapsed": false,
    "pycharm": {
     "name": "#%% md\n"
    }
   }
  },
  {
   "cell_type": "code",
   "execution_count": 11,
   "outputs": [],
   "source": [
    "def convert_image(file_name):\n",
    "    image = Image.open(file_name)\n",
    "    pixels = list(image.getdata())\n",
    "    width, height = image.size\n",
    "    text = []\n",
    "    i = width\n",
    "    for pixel in pixels:\n",
    "        if i == width:\n",
    "            i = 0\n",
    "            text.append([])\n",
    "        text[-1].append(pixel[0])\n",
    "        i += 1\n",
    "    return text"
   ],
   "metadata": {
    "collapsed": false,
    "pycharm": {
     "name": "#%%\n"
    }
   }
  },
  {
   "cell_type": "code",
   "execution_count": 12,
   "outputs": [],
   "source": [
    "text = convert_image(\"haystack.png\")"
   ],
   "metadata": {
    "collapsed": false,
    "pycharm": {
     "name": "#%%\n"
    }
   }
  },
  {
   "cell_type": "markdown",
   "source": [
    "Litera: c\n"
   ],
   "metadata": {
    "collapsed": false,
    "pycharm": {
     "name": "#%% md\n"
    }
   }
  },
  {
   "cell_type": "code",
   "execution_count": 13,
   "outputs": [
    {
     "data": {
      "text/plain": "[[255, 248, 135, 45, 8, 24, 86, 214],\n [249, 61, 0, 0, 0, 0, 0, 55],\n [136, 0, 40, 180, 236, 233, 171, 98],\n [46, 8, 222, 255, 255, 255, 255, 255],\n [9, 54, 255, 255, 255, 255, 255, 255],\n [8, 54, 255, 255, 255, 255, 255, 255],\n [46, 8, 223, 255, 255, 255, 255, 255],\n [136, 0, 42, 182, 237, 233, 171, 98],\n [248, 58, 0, 0, 0, 0, 0, 55],\n [255, 247, 130, 41, 7, 26, 87, 214]]"
     },
     "execution_count": 13,
     "metadata": {},
     "output_type": "execute_result"
    }
   ],
   "source": [
    "c = convert_image(\"patterns/c.png\")\n",
    "c"
   ],
   "metadata": {
    "collapsed": false,
    "pycharm": {
     "name": "#%%\n"
    }
   }
  },
  {
   "cell_type": "code",
   "execution_count": 14,
   "outputs": [
    {
     "name": "stdout",
     "output_type": "stream",
     "text": [
      "Liczba wystąpień c to: 213.\n"
     ]
    }
   ],
   "source": [
    "c_matched = pattern_matching_2d(text, c)\n",
    "print(f\"Liczba wystąpień c to: {len(c_matched)}.\")"
   ],
   "metadata": {
    "collapsed": false,
    "pycharm": {
     "name": "#%%\n"
    }
   }
  },
  {
   "cell_type": "code",
   "execution_count": 15,
   "outputs": [
    {
     "data": {
      "text/plain": "[[255, 255, 235, 92, 24, 0, 79],\n [255, 255, 92, 0, 0, 0, 79],\n [255, 255, 17, 49, 233, 255, 255],\n [255, 247, 0, 102, 255, 255, 255],\n [103, 0, 0, 0, 0, 0, 191],\n [103, 0, 0, 0, 0, 0, 191],\n [255, 243, 0, 103, 255, 255, 255],\n [255, 243, 0, 103, 255, 255, 255],\n [255, 243, 0, 103, 255, 255, 255],\n [255, 243, 0, 103, 255, 255, 255],\n [255, 243, 0, 103, 255, 255, 255],\n [255, 243, 0, 103, 255, 255, 255],\n [255, 243, 0, 103, 255, 255, 255],\n [255, 243, 0, 103, 255, 255, 255]]"
     },
     "execution_count": 15,
     "metadata": {},
     "output_type": "execute_result"
    }
   ],
   "source": [
    "f = convert_image(\"patterns/f.png\")\n",
    "f\n"
   ],
   "metadata": {
    "collapsed": false,
    "pycharm": {
     "name": "#%%\n"
    }
   }
  },
  {
   "cell_type": "code",
   "execution_count": 16,
   "outputs": [
    {
     "name": "stdout",
     "output_type": "stream",
     "text": [
      "Liczba wystąpień f to: 88.\n"
     ]
    }
   ],
   "source": [
    "f_matched = pattern_matching_2d(text, f)\n",
    "print(f\"Liczba wystąpień f to: {len(f_matched)}.\")"
   ],
   "metadata": {
    "collapsed": false,
    "pycharm": {
     "name": "#%%\n"
    }
   }
  },
  {
   "cell_type": "code",
   "execution_count": 17,
   "outputs": [
    {
     "data": {
      "text/plain": "[[163, 0, 187, 162, 40, 6, 39, 166, 255],\n [163, 0, 92, 0, 0, 0, 0, 1, 192],\n [163, 0, 5, 145, 232, 239, 132, 0, 89],\n [163, 0, 118, 255, 255, 255, 255, 34, 44],\n [163, 0, 179, 255, 255, 255, 255, 66, 32],\n [163, 0, 187, 255, 255, 255, 255, 67, 31],\n [163, 0, 187, 255, 255, 255, 255, 67, 31],\n [163, 0, 187, 255, 255, 255, 255, 67, 31],\n [163, 0, 187, 255, 255, 255, 255, 67, 31],\n [163, 0, 187, 255, 255, 255, 255, 67, 31]]"
     },
     "execution_count": 17,
     "metadata": {},
     "output_type": "execute_result"
    }
   ],
   "source": [
    "n = convert_image(\"patterns/n.png\")\n",
    "n\n"
   ],
   "metadata": {
    "collapsed": false,
    "pycharm": {
     "name": "#%%\n"
    }
   }
  },
  {
   "cell_type": "code",
   "execution_count": 18,
   "outputs": [
    {
     "name": "stdout",
     "output_type": "stream",
     "text": [
      "Liczba wystąpień n to: 526.\n"
     ]
    }
   ],
   "source": [
    "n_matched = pattern_matching_2d(text, n)\n",
    "print(f\"Liczba wystąpień n to: {len(n_matched)}.\")"
   ],
   "metadata": {
    "collapsed": false,
    "pycharm": {
     "name": "#%%\n"
    }
   }
  },
  {
   "cell_type": "code",
   "execution_count": 19,
   "outputs": [
    {
     "data": {
      "text/plain": "[[255, 171, 0, 179, 255, 255, 255],\n [255, 171, 0, 179, 255, 255, 255],\n [255, 171, 0, 179, 255, 255, 255],\n [123, 0, 0, 0, 0, 0, 95],\n [123, 0, 0, 0, 0, 0, 95],\n [255, 171, 0, 179, 255, 255, 255],\n [255, 171, 0, 179, 255, 255, 255],\n [255, 171, 0, 179, 255, 255, 255],\n [255, 171, 0, 179, 255, 255, 255],\n [255, 173, 0, 176, 255, 255, 255],\n [255, 190, 0, 108, 245, 255, 255],\n [255, 241, 9, 0, 0, 0, 95],\n [255, 255, 176, 46, 6, 0, 95]]"
     },
     "execution_count": 19,
     "metadata": {},
     "output_type": "execute_result"
    }
   ],
   "source": [
    "t = convert_image(\"patterns/t.png\")\n",
    "t"
   ],
   "metadata": {
    "collapsed": false,
    "pycharm": {
     "name": "#%%\n"
    }
   }
  },
  {
   "cell_type": "code",
   "execution_count": 20,
   "outputs": [
    {
     "name": "stdout",
     "output_type": "stream",
     "text": [
      "Liczba wystąpień t to: 450.\n"
     ]
    }
   ],
   "source": [
    "t_matched = pattern_matching_2d(text, t)\n",
    "print(f\"Liczba wystąpień t to: {len(t_matched)}.\")"
   ],
   "metadata": {
    "collapsed": false,
    "pycharm": {
     "name": "#%%\n"
    }
   }
  },
  {
   "cell_type": "markdown",
   "source": [
    "5. Znajdź wszystkie wystąpienia słowa \"p a t t e r n\" w haystack.png."
   ],
   "metadata": {
    "collapsed": false,
    "pycharm": {
     "name": "#%% md\n"
    }
   }
  },
  {
   "cell_type": "code",
   "execution_count": 21,
   "outputs": [
    {
     "name": "stdout",
     "output_type": "stream",
     "text": [
      "Liczba wystąpień pattern to: 5.\n"
     ]
    }
   ],
   "source": [
    "pattern = convert_image(\"patterns/pattern.png\")\n",
    "pattern_matched = pattern_matching_2d(text, pattern)\n",
    "print(f\"Liczba wystąpień pattern to: {len(pattern_matched)}.\")"
   ],
   "metadata": {
    "collapsed": false,
    "pycharm": {
     "name": "#%%\n"
    }
   }
  },
  {
   "cell_type": "markdown",
   "source": [
    "6. Porównaj czas budowania automatu i czas wyszukiwania dla różnych rozmiarów wzorca"
   ],
   "metadata": {
    "collapsed": false,
    "pycharm": {
     "name": "#%% md\n"
    }
   }
  },
  {
   "cell_type": "code",
   "execution_count": 22,
   "outputs": [],
   "source": [
    "def building_times(text_size):\n",
    "    building_times = []\n",
    "    for i in text_size:\n",
    "        pattern = [[chr(randint(ord('a'), ord('z'))) for _ in range(i)] for _ in range(i)]\n",
    "        start = perf_counter()\n",
    "        main_automaton(pattern)\n",
    "        end = perf_counter()\n",
    "        building_times += [i, end - start]\n",
    "    df = pd.DataFrame(data={\"size\": building_times[::2],\n",
    "                            \"time [s]\": building_times[1::2]})\n",
    "    return df"
   ],
   "metadata": {
    "collapsed": false,
    "pycharm": {
     "name": "#%%\n"
    }
   }
  },
  {
   "cell_type": "code",
   "execution_count": 23,
   "outputs": [
    {
     "data": {
      "text/plain": "    size  time [s]\n0     10  0.001552\n1     20  0.009420\n2     30  0.028553\n3     40  0.064087\n4     50  0.122806\n5     60  0.208673\n6     70  0.370228\n7     80  0.526790\n8     90  0.784194\n9    100  1.093919\n10   110  1.522081\n11   120  2.066297\n12   130  2.553938\n13   140  3.241534\n14   150  4.085520\n15   160  4.965311\n16   170  6.227792",
      "text/html": "<div>\n<style scoped>\n    .dataframe tbody tr th:only-of-type {\n        vertical-align: middle;\n    }\n\n    .dataframe tbody tr th {\n        vertical-align: top;\n    }\n\n    .dataframe thead th {\n        text-align: right;\n    }\n</style>\n<table border=\"1\" class=\"dataframe\">\n  <thead>\n    <tr style=\"text-align: right;\">\n      <th></th>\n      <th>size</th>\n      <th>time [s]</th>\n    </tr>\n  </thead>\n  <tbody>\n    <tr>\n      <th>0</th>\n      <td>10</td>\n      <td>0.001552</td>\n    </tr>\n    <tr>\n      <th>1</th>\n      <td>20</td>\n      <td>0.009420</td>\n    </tr>\n    <tr>\n      <th>2</th>\n      <td>30</td>\n      <td>0.028553</td>\n    </tr>\n    <tr>\n      <th>3</th>\n      <td>40</td>\n      <td>0.064087</td>\n    </tr>\n    <tr>\n      <th>4</th>\n      <td>50</td>\n      <td>0.122806</td>\n    </tr>\n    <tr>\n      <th>5</th>\n      <td>60</td>\n      <td>0.208673</td>\n    </tr>\n    <tr>\n      <th>6</th>\n      <td>70</td>\n      <td>0.370228</td>\n    </tr>\n    <tr>\n      <th>7</th>\n      <td>80</td>\n      <td>0.526790</td>\n    </tr>\n    <tr>\n      <th>8</th>\n      <td>90</td>\n      <td>0.784194</td>\n    </tr>\n    <tr>\n      <th>9</th>\n      <td>100</td>\n      <td>1.093919</td>\n    </tr>\n    <tr>\n      <th>10</th>\n      <td>110</td>\n      <td>1.522081</td>\n    </tr>\n    <tr>\n      <th>11</th>\n      <td>120</td>\n      <td>2.066297</td>\n    </tr>\n    <tr>\n      <th>12</th>\n      <td>130</td>\n      <td>2.553938</td>\n    </tr>\n    <tr>\n      <th>13</th>\n      <td>140</td>\n      <td>3.241534</td>\n    </tr>\n    <tr>\n      <th>14</th>\n      <td>150</td>\n      <td>4.085520</td>\n    </tr>\n    <tr>\n      <th>15</th>\n      <td>160</td>\n      <td>4.965311</td>\n    </tr>\n    <tr>\n      <th>16</th>\n      <td>170</td>\n      <td>6.227792</td>\n    </tr>\n  </tbody>\n</table>\n</div>"
     },
     "execution_count": 23,
     "metadata": {},
     "output_type": "execute_result"
    }
   ],
   "source": [
    "text_size = [i for i in range(10, 180, 10)]\n",
    "df_1 = building_times(text_size)\n",
    "df_1"
   ],
   "metadata": {
    "collapsed": false,
    "pycharm": {
     "name": "#%%\n"
    }
   }
  },
  {
   "cell_type": "code",
   "execution_count": 24,
   "outputs": [],
   "source": [
    "def searching_times(text, text_size, path_size):\n",
    "    pattern = [line[:path_size] for line in text[:path_size]]\n",
    "    automaton = main_automaton(pattern)\n",
    "    searching_times = []\n",
    "\n",
    "    for i in text_size:\n",
    "        text = [line[:i] for line in text[:i]]\n",
    "        start = perf_counter()\n",
    "        pattern_matching_2d(text, pattern, automaton)\n",
    "        end = perf_counter()\n",
    "        searching_times += [i, end - start]\n",
    "    df = pd.DataFrame(data={\"size\": searching_times[::2],\n",
    "                            \"time [s]\": searching_times[1::2]})\n",
    "    return df"
   ],
   "metadata": {
    "collapsed": false,
    "pycharm": {
     "name": "#%%\n"
    }
   }
  },
  {
   "cell_type": "code",
   "execution_count": 25,
   "outputs": [
    {
     "data": {
      "text/plain": "     size  time [s]\n0     500  0.041125\n1    1000  0.033349\n2    1500  0.031807\n3    2000  0.031870\n4    2500  0.032790\n5    3000  0.032920\n6    3500  0.033341\n7    4000  0.033030\n8    4500  0.032938\n9    5000  0.033810\n10   5500  0.032778\n11   6000  0.032729\n12   6500  0.033035\n13   7000  0.032855\n14   7500  0.031537\n15   8000  0.031637\n16   8500  0.067616\n17   9000  0.032881\n18   9500  0.032971\n19  10000  0.032853",
      "text/html": "<div>\n<style scoped>\n    .dataframe tbody tr th:only-of-type {\n        vertical-align: middle;\n    }\n\n    .dataframe tbody tr th {\n        vertical-align: top;\n    }\n\n    .dataframe thead th {\n        text-align: right;\n    }\n</style>\n<table border=\"1\" class=\"dataframe\">\n  <thead>\n    <tr style=\"text-align: right;\">\n      <th></th>\n      <th>size</th>\n      <th>time [s]</th>\n    </tr>\n  </thead>\n  <tbody>\n    <tr>\n      <th>0</th>\n      <td>500</td>\n      <td>0.041125</td>\n    </tr>\n    <tr>\n      <th>1</th>\n      <td>1000</td>\n      <td>0.033349</td>\n    </tr>\n    <tr>\n      <th>2</th>\n      <td>1500</td>\n      <td>0.031807</td>\n    </tr>\n    <tr>\n      <th>3</th>\n      <td>2000</td>\n      <td>0.031870</td>\n    </tr>\n    <tr>\n      <th>4</th>\n      <td>2500</td>\n      <td>0.032790</td>\n    </tr>\n    <tr>\n      <th>5</th>\n      <td>3000</td>\n      <td>0.032920</td>\n    </tr>\n    <tr>\n      <th>6</th>\n      <td>3500</td>\n      <td>0.033341</td>\n    </tr>\n    <tr>\n      <th>7</th>\n      <td>4000</td>\n      <td>0.033030</td>\n    </tr>\n    <tr>\n      <th>8</th>\n      <td>4500</td>\n      <td>0.032938</td>\n    </tr>\n    <tr>\n      <th>9</th>\n      <td>5000</td>\n      <td>0.033810</td>\n    </tr>\n    <tr>\n      <th>10</th>\n      <td>5500</td>\n      <td>0.032778</td>\n    </tr>\n    <tr>\n      <th>11</th>\n      <td>6000</td>\n      <td>0.032729</td>\n    </tr>\n    <tr>\n      <th>12</th>\n      <td>6500</td>\n      <td>0.033035</td>\n    </tr>\n    <tr>\n      <th>13</th>\n      <td>7000</td>\n      <td>0.032855</td>\n    </tr>\n    <tr>\n      <th>14</th>\n      <td>7500</td>\n      <td>0.031537</td>\n    </tr>\n    <tr>\n      <th>15</th>\n      <td>8000</td>\n      <td>0.031637</td>\n    </tr>\n    <tr>\n      <th>16</th>\n      <td>8500</td>\n      <td>0.067616</td>\n    </tr>\n    <tr>\n      <th>17</th>\n      <td>9000</td>\n      <td>0.032881</td>\n    </tr>\n    <tr>\n      <th>18</th>\n      <td>9500</td>\n      <td>0.032971</td>\n    </tr>\n    <tr>\n      <th>19</th>\n      <td>10000</td>\n      <td>0.032853</td>\n    </tr>\n  </tbody>\n</table>\n</div>"
     },
     "execution_count": 25,
     "metadata": {},
     "output_type": "execute_result"
    }
   ],
   "source": [
    "text = convert_image(\"haystack.png\")\n",
    "text_size = [i for i in range(500, 10001, 500)]\n",
    "path_size = 25\n",
    "df_2 = searching_times(text, text_size, path_size)\n",
    "df_2\n",
    "\n"
   ],
   "metadata": {
    "collapsed": false,
    "pycharm": {
     "name": "#%%\n"
    }
   }
  },
  {
   "cell_type": "markdown",
   "source": [
    "7. Podziel plik na 2, 4 i 8 fragmentów (w poziomie) i porównaj czas przeszukiwania\n"
   ],
   "metadata": {
    "collapsed": false,
    "pycharm": {
     "name": "#%% md\n"
    }
   }
  },
  {
   "cell_type": "code",
   "execution_count": 26,
   "outputs": [],
   "source": [
    "def divide_and_measure(text, path_size):\n",
    "    pattern = [line[:path_size] for line in text[:path_size]]\n",
    "    result = []\n",
    "\n",
    "    for div in [2, 4, 8]:\n",
    "        length = len(text) // div\n",
    "        intervals = [text[i * length:(i + 1) * length] for i in range(div)]\n",
    "        start = perf_counter()\n",
    "        for i in intervals:\n",
    "            pattern_matching_2d(i, pattern)\n",
    "        end = perf_counter()\n",
    "        result += [div, end - start]\n",
    "    df = pd.DataFrame(data={\"fragments\": result[::2],\n",
    "                            \"time [s]\": result[1::2]})\n",
    "    return df"
   ],
   "metadata": {
    "collapsed": false,
    "pycharm": {
     "name": "#%%\n"
    }
   }
  },
  {
   "cell_type": "code",
   "execution_count": 27,
   "outputs": [
    {
     "data": {
      "text/plain": "   fragments  time [s]\n0          2  0.260176\n1          4  0.235473\n2          8  0.229677",
      "text/html": "<div>\n<style scoped>\n    .dataframe tbody tr th:only-of-type {\n        vertical-align: middle;\n    }\n\n    .dataframe tbody tr th {\n        vertical-align: top;\n    }\n\n    .dataframe thead th {\n        text-align: right;\n    }\n</style>\n<table border=\"1\" class=\"dataframe\">\n  <thead>\n    <tr style=\"text-align: right;\">\n      <th></th>\n      <th>fragments</th>\n      <th>time [s]</th>\n    </tr>\n  </thead>\n  <tbody>\n    <tr>\n      <th>0</th>\n      <td>2</td>\n      <td>0.260176</td>\n    </tr>\n    <tr>\n      <th>1</th>\n      <td>4</td>\n      <td>0.235473</td>\n    </tr>\n    <tr>\n      <th>2</th>\n      <td>8</td>\n      <td>0.229677</td>\n    </tr>\n  </tbody>\n</table>\n</div>"
     },
     "execution_count": 27,
     "metadata": {},
     "output_type": "execute_result"
    }
   ],
   "source": [
    "path_size = 25\n",
    "df_3 = divide_and_measure(text, path_size)\n",
    "df_3\n"
   ],
   "metadata": {
    "collapsed": false,
    "pycharm": {
     "name": "#%%\n"
    }
   }
  }
 ],
 "metadata": {
  "kernelspec": {
   "display_name": "Python 3",
   "language": "python",
   "name": "python3"
  },
  "language_info": {
   "codemirror_mode": {
    "name": "ipython",
    "version": 2
   },
   "file_extension": ".py",
   "mimetype": "text/x-python",
   "name": "python",
   "nbconvert_exporter": "python",
   "pygments_lexer": "ipython2",
   "version": "2.7.6"
  }
 },
 "nbformat": 4,
 "nbformat_minor": 0
}