{
 "cells": [
  {
   "cell_type": "markdown",
   "source": [
    "## Lab 1 - algorytmy przeszukiwania tekstu\n",
    "\n",
    "Biblioteki do zaimportowania:"
   ],
   "metadata": {
    "collapsed": false,
    "pycharm": {
     "name": "#%% md\n"
    }
   }
  },
  {
   "cell_type": "code",
   "execution_count": 2,
   "metadata": {
    "collapsed": true
   },
   "outputs": [],
   "source": [
    "import matplotlib.pyplot as plt\n",
    "import pandas as pd\n",
    "from time import time\n",
    "import seaborn as sns"
   ]
  },
  {
   "cell_type": "markdown",
   "source": [
    "Załadowanie przykładowego pliku:"
   ],
   "metadata": {
    "collapsed": false,
    "pycharm": {
     "name": "#%% md\n"
    }
   }
  },
  {
   "cell_type": "code",
   "execution_count": 26,
   "outputs": [],
   "source": [
    "f = open('pan-tadeusz.txt', 'r')\n",
    "text = f.read()"
   ],
   "metadata": {
    "collapsed": false,
    "pycharm": {
     "name": "#%%\n"
    }
   }
  },
  {
   "cell_type": "markdown",
   "source": [
    "### Algorytm naiwny\n"
   ],
   "metadata": {
    "collapsed": false,
    "pycharm": {
     "name": "#%% md\n"
    }
   }
  },
  {
   "cell_type": "code",
   "execution_count": 4,
   "outputs": [],
   "source": [
    "#Matching function\n",
    "def naive_string_matching(text, pattern):\n",
    "    count = 0\n",
    "    for s in range(0, len(text) - len(pattern) + 1):\n",
    "        if (pattern == text[s:s + len(pattern)]):\n",
    "            count+= 1\n",
    "            # print(f\"Przesunięcie {s} jest poprawne\")\n",
    "    return count"
   ],
   "metadata": {
    "collapsed": false,
    "pycharm": {
     "name": "#%%\n"
    }
   }
  },
  {
   "cell_type": "markdown",
   "source": [
    "### Algorytm automatu skończonego"
   ],
   "metadata": {
    "collapsed": false
   }
  },
  {
   "cell_type": "code",
   "execution_count": 5,
   "outputs": [],
   "source": [
    "#Matching function\n",
    "def fa_string_matching(text, delta):\n",
    "    q = 0\n",
    "    count = 0\n",
    "    length = len(delta) - 1\n",
    "    for i in range(0, len(text)):\n",
    "        if text[i] in delta[q]:\n",
    "            q = delta[q][text[i]]\n",
    "            if (q == length):\n",
    "                count += 1\n",
    "                # print(f\"Przesunięcie {i + 1 - q} jest poprawne\")\n",
    "                # ponieważ przeczytaliśmy (s+q)-ty znak te\n",
    "        else:\n",
    "            q = 0\n",
    "    return count\n",
    "\n",
    "#Function which generates table of transition values\n",
    "def transition_table(pattern):\n",
    "    alphabet = set(pattern)\n",
    "    result = []\n",
    "    for q in range(0, len(pattern) + 1):\n",
    "        result.append({})\n",
    "        for a in alphabet:\n",
    "            k = min(len(pattern) + 1, q + 2)\n",
    "            while True:\n",
    "                k = k - 1\n",
    "                # x[:k] - prefiks o długości k\n",
    "                # x[-k:] - sufiks o długości k\n",
    "                if (k == 0 or pattern[:k] == (pattern[:q] + a)[-k:]):\n",
    "                    break\n",
    "            result[q][a] = k\n",
    "    return result"
   ],
   "metadata": {
    "collapsed": false,
    "pycharm": {
     "name": "#%%\n"
    }
   }
  },
  {
   "cell_type": "code",
   "execution_count": 27,
   "outputs": [
    {
     "data": {
      "text/plain": "401"
     },
     "execution_count": 27,
     "metadata": {},
     "output_type": "execute_result"
    }
   ],
   "source": [
    "#An example of a function call\n",
    "\n",
    "pattern = \"pan\"\n",
    "delta = transition_table(pattern)\n",
    "fa_string_matching(text,delta)"
   ],
   "metadata": {
    "collapsed": false,
    "pycharm": {
     "name": "#%%\n"
    }
   }
  },
  {
   "cell_type": "markdown",
   "source": [
    "### Algorytm Knutha-Morrisa-Pratta"
   ],
   "metadata": {
    "collapsed": false
   }
  },
  {
   "cell_type": "code",
   "execution_count": 7,
   "outputs": [],
   "source": [
    "#Function which generates array of prefixes\n",
    "def prefix_function(pattern):\n",
    "    pi = [0]\n",
    "    k = 0\n",
    "    for q in range(1, len(pattern)):\n",
    "        while(k > 0 and pattern[k] != pattern[q]):\n",
    "            k = pi[k-1]\n",
    "        if(pattern[k] == pattern[q]):\n",
    "            k = k + 1\n",
    "        pi.append(k)\n",
    "    return pi\n",
    "\n",
    "#Matching function\n",
    "def kmp_string_matching(text, pattern,pi):\n",
    "    q = 0\n",
    "    count = 0\n",
    "    for i in range(0, len(text)):\n",
    "        while(q > 0 and pattern[q] != text[i]):\n",
    "            q = pi[q-1]\n",
    "        if(pattern[q] == text[i]):\n",
    "            q = q + 1\n",
    "        if(q == len(pattern)):\n",
    "            count += 1\n",
    "            # print(f\"Przesunięcie {i + 1 - q} jest poprawne\")\n",
    "            q = pi[q-1]\n",
    "    return count"
   ],
   "metadata": {
    "collapsed": false,
    "pycharm": {
     "name": "#%%\n"
    }
   }
  },
  {
   "cell_type": "markdown",
   "source": [
    "Funkcje do porównywania czasu działania algorytmów\n"
   ],
   "metadata": {
    "collapsed": false,
    "pycharm": {
     "name": "#%% md\n"
    }
   }
  },
  {
   "cell_type": "code",
   "execution_count": 8,
   "outputs": [],
   "source": [
    "def function_time(text,pattern):\n",
    "    data = []\n",
    "\n",
    "    #Naive\n",
    "    t = time()\n",
    "    naive_string_matching(text,pattern)\n",
    "    t_match = time()-t\n",
    "    data.append([0,t_match,t_match,'naive'])\n",
    "\n",
    "    #Finite-state\n",
    "    t = time()\n",
    "    delta = transition_table(pattern)\n",
    "    t_prep = time()-t\n",
    "    t = time()\n",
    "    fa_string_matching(text,delta)\n",
    "    t_match = time()-t\n",
    "    data.append([t_prep,t_match,t_match+t_prep,'finite'])\n",
    "\n",
    "    #Kmp\n",
    "    t = time()\n",
    "    pi = prefix_function(pattern)\n",
    "    t_prep = time()-t\n",
    "    t = time()\n",
    "    kmp_string_matching(text,pattern,pi)\n",
    "    t_match = time()-t\n",
    "    data.append([t_prep,t_match,t_match+t_prep,'kmp'])\n",
    "\n",
    "    df = pd.DataFrame(data=data,columns=['Preprocessing [s]','Matching [s]','Both [s]','Algorithm'])\n",
    "\n",
    "    return df"
   ],
   "metadata": {
    "collapsed": false,
    "pycharm": {
     "name": "#%%\n"
    }
   }
  },
  {
   "cell_type": "code",
   "execution_count": 30,
   "outputs": [
    {
     "data": {
      "text/plain": "   Preprocessing [s]  Matching [s]  Both [s] Algorithm\n0           0.000000      0.060344  0.060344     naive\n1           0.000095      0.039824  0.039919    finite\n2           0.000015      0.044156  0.044171       kmp",
      "text/html": "<div>\n<style scoped>\n    .dataframe tbody tr th:only-of-type {\n        vertical-align: middle;\n    }\n\n    .dataframe tbody tr th {\n        vertical-align: top;\n    }\n\n    .dataframe thead th {\n        text-align: right;\n    }\n</style>\n<table border=\"1\" class=\"dataframe\">\n  <thead>\n    <tr style=\"text-align: right;\">\n      <th></th>\n      <th>Preprocessing [s]</th>\n      <th>Matching [s]</th>\n      <th>Both [s]</th>\n      <th>Algorithm</th>\n    </tr>\n  </thead>\n  <tbody>\n    <tr>\n      <th>0</th>\n      <td>0.000000</td>\n      <td>0.060344</td>\n      <td>0.060344</td>\n      <td>naive</td>\n    </tr>\n    <tr>\n      <th>1</th>\n      <td>0.000095</td>\n      <td>0.039824</td>\n      <td>0.039919</td>\n      <td>finite</td>\n    </tr>\n    <tr>\n      <th>2</th>\n      <td>0.000015</td>\n      <td>0.044156</td>\n      <td>0.044171</td>\n      <td>kmp</td>\n    </tr>\n  </tbody>\n</table>\n</div>"
     },
     "execution_count": 30,
     "metadata": {},
     "output_type": "execute_result"
    }
   ],
   "source": [
    "function_time(text,\"Tadeusz\")"
   ],
   "metadata": {
    "collapsed": false,
    "pycharm": {
     "name": "#%%\n"
    }
   }
  },
  {
   "cell_type": "markdown",
   "source": [
    "Algorytm automatu skończonego okazał się najszybszy.\n",
    "Algorytm kmp jest ciut wolniejszy, sama konstrukcja tego algorytmu świadczy\n",
    "o tym, że te algorytmy są porównywalne, aczkolwiek kmp wykonuje dużo więcej porównań.\n",
    "Natomiast naiwny najwolniejszy - przez to, że sprawdzamy po kolei każde dopasowanie"
   ],
   "metadata": {
    "collapsed": false
   }
  },
  {
   "cell_type": "code",
   "execution_count": 10,
   "outputs": [],
   "source": [
    "def match_patterns(text,patterns):\n",
    "    naive_data,fa_data,kmp_data = [],[],[]\n",
    "\n",
    "    for pattern in patterns:\n",
    "        naive = naive_string_matching(text,pattern)\n",
    "        naive_data.append(naive)\n",
    "        delta = transition_table(pattern)\n",
    "        fa = fa_string_matching(text,delta)\n",
    "        fa_data.append(fa)\n",
    "        pi = prefix_function(pattern)\n",
    "        kmp = kmp_string_matching(text,pattern,pi)\n",
    "        kmp_data.append(kmp)\n",
    "    naive_data.append('naive')\n",
    "    fa_data.append('finite')\n",
    "    kmp_data.append('kmp')\n",
    "    data = [naive_data,fa_data,kmp_data]\n",
    "\n",
    "    col = ['matching: ' + p + ' [s]' for p in patterns]\n",
    "    col.append('algorithm')\n",
    "    df = pd.DataFrame(data=data,columns=col)\n",
    "\n",
    "    return df"
   ],
   "metadata": {
    "collapsed": false,
    "pycharm": {
     "name": "#%%\n"
    }
   }
  },
  {
   "cell_type": "code",
   "execution_count": 11,
   "outputs": [
    {
     "data": {
      "text/plain": "   matching: pan [s]  matching: pani [s] algorithm\n0                401                 100     naive\n1                401                 100    finite\n2                401                 100       kmp",
      "text/html": "<div>\n<style scoped>\n    .dataframe tbody tr th:only-of-type {\n        vertical-align: middle;\n    }\n\n    .dataframe tbody tr th {\n        vertical-align: top;\n    }\n\n    .dataframe thead th {\n        text-align: right;\n    }\n</style>\n<table border=\"1\" class=\"dataframe\">\n  <thead>\n    <tr style=\"text-align: right;\">\n      <th></th>\n      <th>matching: pan [s]</th>\n      <th>matching: pani [s]</th>\n      <th>algorithm</th>\n    </tr>\n  </thead>\n  <tbody>\n    <tr>\n      <th>0</th>\n      <td>401</td>\n      <td>100</td>\n      <td>naive</td>\n    </tr>\n    <tr>\n      <th>1</th>\n      <td>401</td>\n      <td>100</td>\n      <td>finite</td>\n    </tr>\n    <tr>\n      <th>2</th>\n      <td>401</td>\n      <td>100</td>\n      <td>kmp</td>\n    </tr>\n  </tbody>\n</table>\n</div>"
     },
     "execution_count": 11,
     "metadata": {},
     "output_type": "execute_result"
    }
   ],
   "source": [
    "match_patterns(text,['pan','pani'])"
   ],
   "metadata": {
    "collapsed": false,
    "pycharm": {
     "name": "#%%\n"
    }
   }
  },
  {
   "cell_type": "markdown",
   "source": [
    "Oczywiście wyniki algorytmów uwzględniają duże i małe litery,\n",
    "a więc przykładowo: 'Pani' != 'pani'"
   ],
   "metadata": {
    "collapsed": false
   }
  },
  {
   "cell_type": "code",
   "execution_count": 12,
   "outputs": [],
   "source": [
    "def function_time_n_times(text,pattern,n):\n",
    "    naive_times,fa_times,kmp_times = [],[],[]\n",
    "    for _ in range(n):\n",
    "        t = time()\n",
    "        naive_string_matching(text,pattern)\n",
    "        naive_times.append(time()-t)\n",
    "        t = time()\n",
    "        delta = transition_table(pattern)\n",
    "        fa_string_matching(text,delta)\n",
    "        fa_times.append(time()-t)\n",
    "        t = time()\n",
    "        pi = prefix_function(pattern)\n",
    "        kmp_string_matching(text,pattern,pi)\n",
    "        kmp_times.append(time()-t)\n",
    "\n",
    "    data = [[min(naive_times),max(naive_times),sum(naive_times)/n,pattern,'naive'],\n",
    "            [min(fa_times),max(fa_times),sum(fa_times)/n,pattern,'finite'],\n",
    "            [min(kmp_times),max(kmp_times),sum(kmp_times)/n,pattern,'kmp']\n",
    "            ]\n",
    "\n",
    "    data_plot = [[min(naive_times),'min',pattern,'naive'],\n",
    "                 [max(naive_times),'max',pattern,'naive'],\n",
    "                 [sum(naive_times)/n,'average',pattern,'naive'],\n",
    "                 [min(fa_times),'min',pattern,'finite'],\n",
    "                 [max(fa_times),'max',pattern,'finite'],\n",
    "                 [sum(fa_times)/n,'average',pattern,'finite'],\n",
    "                 [min(kmp_times),'min',pattern,'kmp'],\n",
    "                 [max(kmp_times),'max',pattern,'kmp'],\n",
    "                 [sum(kmp_times)/n,'average',pattern,'kmp']\n",
    "                 ]\n",
    "    df = pd.DataFrame(data=data,columns = ['min time [s]','max time [s]','average time [s]','pattern' ,'algorithm'])\n",
    "    df_for_plot = pd.DataFrame(data=data_plot,columns = ['time','type','pattern' ,'algorithm'])\n",
    "    return df,df_for_plot"
   ],
   "metadata": {
    "collapsed": false,
    "pycharm": {
     "name": "#%%\n"
    }
   }
  },
  {
   "cell_type": "code",
   "execution_count": 20,
   "outputs": [
    {
     "data": {
      "text/plain": "   min time [s]  max time [s]  average time [s] pattern algorithm\n0      0.118375      0.155560          0.131856     pan     naive\n1      0.059980      0.070481          0.062838     pan    finite\n2      0.094141      0.127620          0.105670     pan       kmp",
      "text/html": "<div>\n<style scoped>\n    .dataframe tbody tr th:only-of-type {\n        vertical-align: middle;\n    }\n\n    .dataframe tbody tr th {\n        vertical-align: top;\n    }\n\n    .dataframe thead th {\n        text-align: right;\n    }\n</style>\n<table border=\"1\" class=\"dataframe\">\n  <thead>\n    <tr style=\"text-align: right;\">\n      <th></th>\n      <th>min time [s]</th>\n      <th>max time [s]</th>\n      <th>average time [s]</th>\n      <th>pattern</th>\n      <th>algorithm</th>\n    </tr>\n  </thead>\n  <tbody>\n    <tr>\n      <th>0</th>\n      <td>0.118375</td>\n      <td>0.155560</td>\n      <td>0.131856</td>\n      <td>pan</td>\n      <td>naive</td>\n    </tr>\n    <tr>\n      <th>1</th>\n      <td>0.059980</td>\n      <td>0.070481</td>\n      <td>0.062838</td>\n      <td>pan</td>\n      <td>finite</td>\n    </tr>\n    <tr>\n      <th>2</th>\n      <td>0.094141</td>\n      <td>0.127620</td>\n      <td>0.105670</td>\n      <td>pan</td>\n      <td>kmp</td>\n    </tr>\n  </tbody>\n</table>\n</div>"
     },
     "execution_count": 20,
     "metadata": {},
     "output_type": "execute_result"
    }
   ],
   "source": [
    "df_a,df_for_plot_a = function_time_n_times(text,'pan',5)\n",
    "df_a"
   ],
   "metadata": {
    "collapsed": false,
    "pycharm": {
     "name": "#%%\n"
    }
   }
  },
  {
   "cell_type": "code",
   "execution_count": 21,
   "outputs": [
    {
     "data": {
      "text/plain": "   min time [s]  max time [s]  average time [s] pattern algorithm\n0      0.116147      0.138877          0.130683    pani     naive\n1      0.059431      0.101547          0.075225    pani    finite\n2      0.092110      0.108506          0.099224    pani       kmp",
      "text/html": "<div>\n<style scoped>\n    .dataframe tbody tr th:only-of-type {\n        vertical-align: middle;\n    }\n\n    .dataframe tbody tr th {\n        vertical-align: top;\n    }\n\n    .dataframe thead th {\n        text-align: right;\n    }\n</style>\n<table border=\"1\" class=\"dataframe\">\n  <thead>\n    <tr style=\"text-align: right;\">\n      <th></th>\n      <th>min time [s]</th>\n      <th>max time [s]</th>\n      <th>average time [s]</th>\n      <th>pattern</th>\n      <th>algorithm</th>\n    </tr>\n  </thead>\n  <tbody>\n    <tr>\n      <th>0</th>\n      <td>0.116147</td>\n      <td>0.138877</td>\n      <td>0.130683</td>\n      <td>pani</td>\n      <td>naive</td>\n    </tr>\n    <tr>\n      <th>1</th>\n      <td>0.059431</td>\n      <td>0.101547</td>\n      <td>0.075225</td>\n      <td>pani</td>\n      <td>finite</td>\n    </tr>\n    <tr>\n      <th>2</th>\n      <td>0.092110</td>\n      <td>0.108506</td>\n      <td>0.099224</td>\n      <td>pani</td>\n      <td>kmp</td>\n    </tr>\n  </tbody>\n</table>\n</div>"
     },
     "execution_count": 21,
     "metadata": {},
     "output_type": "execute_result"
    }
   ],
   "source": [
    "df_b,df_for_plot_b = function_time_n_times(text,'pani',5)\n",
    "df_b"
   ],
   "metadata": {
    "collapsed": false,
    "pycharm": {
     "name": "#%%\n"
    }
   }
  },
  {
   "cell_type": "code",
   "execution_count": 22,
   "outputs": [
    {
     "data": {
      "text/plain": "<Figure size 610.25x500 with 1 Axes>",
      "image/png": "[encoded data removed]"
     },
     "metadata": {},
     "output_type": "display_data"
    }
   ],
   "source": [
    "sns.set_theme(style=\"whitegrid\")\n",
    "g_1 = sns.catplot(data = df_for_plot_a,kind=\"bar\",x = 'algorithm',y = 'time',hue='type')\n",
    "g_1.set(title='Pattern - pan')\n",
    "g_1.despine(left=True)\n",
    "g_1.legend.set_title(\"\")"
   ],
   "metadata": {
    "collapsed": false,
    "pycharm": {
     "name": "#%%\n"
    }
   }
  },
  {
   "cell_type": "code",
   "execution_count": 23,
   "outputs": [
    {
     "data": {
      "text/plain": "<Figure size 610.25x500 with 1 Axes>",
      "image/png": "[encoded data removed]"
     },
     "metadata": {},
     "output_type": "display_data"
    }
   ],
   "source": [
    "g_2 = sns.catplot(data = df_for_plot_b,kind=\"bar\",x = 'algorithm',y = 'time',hue='type')\n",
    "g_2.despine(left=True)\n",
    "g_2.set(title='Pattern - pani')\n",
    "g_2.set_axis_labels(\"pani\")\n",
    "g_2.legend.set_title(\"\")"
   ],
   "metadata": {
    "collapsed": false,
    "pycharm": {
     "name": "#%%\n"
    }
   }
  },
  {
   "cell_type": "code",
   "execution_count": 17,
   "outputs": [],
   "source": [
    "#Zamknięcie pan-tadeusz.txt\n",
    "f.close()"
   ],
   "metadata": {
    "collapsed": false,
    "pycharm": {
     "name": "#%%\n"
    }
   }
  },
  {
   "cell_type": "markdown",
   "source": [
    "Przykład patternu i textu, gdzie algorytm naive jest 5-krotnie wolniejszy:\n",
    "\n",
    "-Dość długi text tego samego znaku, tak samo jak i pattern (pattern zbliżony do textu)"
   ],
   "metadata": {
    "collapsed": false,
    "pycharm": {
     "name": "#%% md\n"
    }
   }
  },
  {
   "cell_type": "code",
   "execution_count": 24,
   "outputs": [],
   "source": [
    "text = 'f' * 10**6\n",
    "pattern = 'f' * 10**5\n",
    "\n",
    "df = function_time(text,pattern)\n",
    "\n"
   ],
   "metadata": {
    "collapsed": false,
    "pycharm": {
     "name": "#%%\n"
    }
   }
  },
  {
   "cell_type": "code",
   "execution_count": 25,
   "outputs": [
    {
     "data": {
      "text/plain": "   Preprocessing [s]  Matching [s]   Both [s] Algorithm\n0           0.000000     10.013042  10.013042     naive\n1           0.850040      0.109458   0.959498    finite\n2           0.012636      0.177047   0.189683       kmp",
      "text/html": "<div>\n<style scoped>\n    .dataframe tbody tr th:only-of-type {\n        vertical-align: middle;\n    }\n\n    .dataframe tbody tr th {\n        vertical-align: top;\n    }\n\n    .dataframe thead th {\n        text-align: right;\n    }\n</style>\n<table border=\"1\" class=\"dataframe\">\n  <thead>\n    <tr style=\"text-align: right;\">\n      <th></th>\n      <th>Preprocessing [s]</th>\n      <th>Matching [s]</th>\n      <th>Both [s]</th>\n      <th>Algorithm</th>\n    </tr>\n  </thead>\n  <tbody>\n    <tr>\n      <th>0</th>\n      <td>0.000000</td>\n      <td>10.013042</td>\n      <td>10.013042</td>\n      <td>naive</td>\n    </tr>\n    <tr>\n      <th>1</th>\n      <td>0.850040</td>\n      <td>0.109458</td>\n      <td>0.959498</td>\n      <td>finite</td>\n    </tr>\n    <tr>\n      <th>2</th>\n      <td>0.012636</td>\n      <td>0.177047</td>\n      <td>0.189683</td>\n      <td>kmp</td>\n    </tr>\n  </tbody>\n</table>\n</div>"
     },
     "execution_count": 25,
     "metadata": {},
     "output_type": "execute_result"
    }
   ],
   "source": [
    "df\n"
   ],
   "metadata": {
    "collapsed": false,
    "pycharm": {
     "name": "#%%\n"
    }
   }
  },
  {
   "cell_type": "markdown",
   "source": [
    "### Wnioski\n",
    "Po przeanalizowaniu wykresów i dataframeów, mogę stwierdzić, że naiwny algorytm jest najwolniejszy.\n",
    "Generalnie im bardziej długość tekstu jest zbliżona do szukanego patternu (długościowo)\n",
    "tym gorzej sobie radzi, (złożoność n^2 wtedy)\n",
    "Natomiast pozostałe algorytmy radzą sobie w tym przypadku dużo lepiej (złożoność bliska liniowej)\n",
    "Generalnie im bardziej pattern się powtarza tym szybsze te algorytmy będą\n",
    "Dużo gorzej zaś będzie jeśli szukany pattern będzie mocno zróżnicowany, przykładowo jakiś\n",
    "długi ciąg różnych znaków, czas poświęcony na pre-processing dla algorytmu automatów skończonych\n",
    "będzie o wiele dłuższy, ze względu na to w jaki sposób się to generuje.\n",
    "Wtedy dużo bezpieczniej wybrać algorytm kmp, który jest znacznie szybszy przy pre-processingu przez co\n",
    "nadrabia, a nawet może okazać się dużo szybszy w takich przypadkach.\n",
    "\n",
    "W tych testach, oczywiście wszędzie sobie radzi dużo lepiej automat skończonych, co\n",
    "nie jest żadnym zaskoczeniem - bardzo krótki alfabet (p,a,n,i)\n",
    "Automat zawsze będzie szybszy w przeszukiwaniu, natomiast wszystko zalezy też od pre-proecessingu i alfabetu\n",
    "Co do kmp, jest delikatnie wolniejszy w przeszukiwaniu, aczkolwiek to dlatego,że automat działa na\n",
    "słowniku, a kmp musi przez to dużo więcej warunków sprawdzać za każdym razem, u niego\n",
    "góruje za to pre-processing, który jest dużo szybszy.\n",
    "\n",
    "Naiwnego nie powinno się używac\n",
    "generalnie im krótszy alfabet - algorytm automatów skończonych\n",
    "przeciwnie - algorytm kmp"
   ],
   "metadata": {
    "collapsed": false
   }
  }
 ],
 "metadata": {
  "kernelspec": {
   "display_name": "Python 3",
   "language": "python",
   "name": "python3"
  },
  "language_info": {
   "codemirror_mode": {
    "name": "ipython",
    "version": 2
   },
   "file_extension": ".py",
   "mimetype": "text/x-python",
   "name": "python",
   "nbconvert_exporter": "python",
   "pygments_lexer": "ipython2",
   "version": "2.7.6"
  }
 },
 "nbformat": 4,
 "nbformat_minor": 0
}