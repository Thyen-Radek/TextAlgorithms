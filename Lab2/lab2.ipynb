{
 "cells": [
  {
   "cell_type": "markdown",
   "metadata": {
    "collapsed": true,
    "pycharm": {
     "name": "#%% md\n"
    }
   },
   "source": [
    "## Lab 2 - algorytmy kompresji tekstu\n",
    "\n",
    "Biblioteki:"
   ]
  },
  {
   "cell_type": "code",
   "execution_count": 2,
   "outputs": [],
   "source": [
    "from heapq import heappop, heappush, heapify\n",
    "\n",
    "from bitarray import bitarray\n",
    "from bitarray.util import ba2int\n",
    "import pandas as pd\n",
    "import numpy as np"
   ],
   "metadata": {
    "collapsed": false,
    "pycharm": {
     "name": "#%%\n"
    }
   }
  },
  {
   "cell_type": "markdown",
   "source": [
    "Algorytm statyczny"
   ],
   "metadata": {
    "collapsed": false,
    "pycharm": {
     "name": "#%% md\n"
    }
   }
  },
  {
   "cell_type": "code",
   "execution_count": 3,
   "outputs": [],
   "source": [
    "class Node:\n",
    "    def __init__(self, value, char=None, left=None, right=None):\n",
    "        self.value = value\n",
    "        self.char = char\n",
    "        self.left = left\n",
    "        self.right = right\n",
    "\n",
    "    def __gt__(self, other):\n",
    "        return self.value > other.value\n",
    "\n",
    "\n",
    "class StaticHuff:\n",
    "    def __init__(self, text):\n",
    "        self.root = self.make_tree(text)\n",
    "        self.code_chars = dict()\n",
    "        self.make_codes(self.root, self.code_chars, bitarray())\n",
    "\n",
    "    def make_tree(self, text):\n",
    "        chars = dict()\n",
    "\n",
    "        for c in text:\n",
    "            chars[c] = chars.get(c, 0) + 1\n",
    "\n",
    "        leaves = [Node(v, c) for c, v in chars.items()]\n",
    "\n",
    "        while len(leaves) > 1:\n",
    "            f, s = heappop(leaves), heappop(leaves)\n",
    "            heappush(leaves, Node(f.value + s.value, left=f, right=s))\n",
    "        return leaves[0]\n",
    "\n",
    "    def make_codes(self, node, code_chars, code_bit):\n",
    "        if node.char is not None:\n",
    "            code_chars[node.char] = code_bit\n",
    "\n",
    "        code_copy = code_bit.copy()\n",
    "\n",
    "        if node.right is not None:\n",
    "            code_bit.append(1)\n",
    "            self.make_codes(node.right, code_chars, code_bit)\n",
    "\n",
    "        if node.left is not None:\n",
    "            code_bit = code_copy\n",
    "            code_bit.append(0)\n",
    "            self.make_codes(node.left, code_chars, code_bit)\n",
    "\n",
    "    def encode(self, text):\n",
    "        bit_encoded = bitarray()\n",
    "        for c in text:\n",
    "            bit_encoded.extend(self.code_chars[c])\n",
    "        return bit_encoded\n",
    "\n",
    "    def decode(self, encoded_bit):\n",
    "        node = self.root\n",
    "        decoded_text = \"\"\n",
    "        for bit in encoded_bit:\n",
    "            if bit:\n",
    "                node = node.right\n",
    "            else:\n",
    "                node = node.left\n",
    "            if not node.left and not node.right:\n",
    "                decoded_text += node.char\n",
    "                node = self.root\n",
    "        return decoded_text"
   ],
   "metadata": {
    "collapsed": false,
    "pycharm": {
     "name": "#%%\n"
    }
   }
  },
  {
   "cell_type": "code",
   "execution_count": 4,
   "outputs": [
    {
     "data": {
      "text/plain": "                text\nBefore  Text example\nAfter   Text example",
      "text/html": "<div>\n<style scoped>\n    .dataframe tbody tr th:only-of-type {\n        vertical-align: middle;\n    }\n\n    .dataframe tbody tr th {\n        vertical-align: top;\n    }\n\n    .dataframe thead th {\n        text-align: right;\n    }\n</style>\n<table border=\"1\" class=\"dataframe\">\n  <thead>\n    <tr style=\"text-align: right;\">\n      <th></th>\n      <th>text</th>\n    </tr>\n  </thead>\n  <tbody>\n    <tr>\n      <th>Before</th>\n      <td>Text example</td>\n    </tr>\n    <tr>\n      <th>After</th>\n      <td>Text example</td>\n    </tr>\n  </tbody>\n</table>\n</div>"
     },
     "execution_count": 4,
     "metadata": {},
     "output_type": "execute_result"
    }
   ],
   "source": [
    "text = \"Text example\"\n",
    "static = StaticHuff(text)\n",
    "result = static.encode(text)\n",
    "decoded = static.decode(result)\n",
    "pd.DataFrame(data=[text, decoded], columns=[\"text\"], index=[\"Before\", \"After\"])\n",
    "# decoded"
   ],
   "metadata": {
    "collapsed": false,
    "pycharm": {
     "name": "#%%\n"
    }
   }
  },
  {
   "cell_type": "markdown",
   "source": [
    "Algorytm dynamiczny\n"
   ],
   "metadata": {
    "collapsed": false,
    "pycharm": {
     "name": "#%% md\n"
    }
   }
  },
  {
   "cell_type": "code",
   "execution_count": 5,
   "outputs": [],
   "source": [
    "class Node2:\n",
    "    def __init__(self, value=0, index=0, char=None, left=None, right=None, parent=None):\n",
    "        self.value = value\n",
    "        self.char = char\n",
    "        self.left = left\n",
    "        self.right = right\n",
    "        self.index = index\n",
    "        self.parent = parent\n",
    "\n",
    "\n",
    "class DynamicHuff:\n",
    "    def __init__(self):\n",
    "        self.index = 999999\n",
    "        NYT = Node2(value=0, index=self.index + 1, char='NYT')\n",
    "        self.NYT = NYT\n",
    "        self.root = NYT\n",
    "        self.leaves = {\"NYT\": self.root}\n",
    "        self.values = {0: {self.root}, 1: set()}\n",
    "\n",
    "    def add_node(self, char):\n",
    "        node = self.NYT\n",
    "        node.char = None\n",
    "        node_right = Node2(value=1, index=self.index, parent=node, char=char)\n",
    "        node.right = node_right\n",
    "        node_left = Node2(value=0, index=self.index - 1, parent=node, char=\"NYT\")\n",
    "        node.left = node_left\n",
    "        self.NYT = node_left\n",
    "        self.index -= 2\n",
    "        self.values[0].add(node_left)\n",
    "        self.values[1].add(node_right)\n",
    "        self.leaves[char] = node_right\n",
    "        self.leaves[\"NYT\"] = node_left\n",
    "        self.slide_increment(node)\n",
    "\n",
    "    def slide_increment(self, node):\n",
    "        while node != self.root:\n",
    "            node = node.parent\n",
    "            max_i_n = max(self.values[node.value], key=lambda x: x.index)\n",
    "            if node != max_i_n:\n",
    "                node.index, max_i_n.index = max_i_n.index, node.index\n",
    "                if node.parent != max_i_n.parent:\n",
    "                    if node.parent.left != node:\n",
    "                        node.parent.right = max_i_n\n",
    "\n",
    "                    else:\n",
    "                        node.parent.left = max_i_n\n",
    "                    if max_i_n.parent.left != max_i_n:\n",
    "                        max_i_n.parent.right = node\n",
    "\n",
    "                    else:\n",
    "                        max_i_n.parent.left = node\n",
    "                    if max_i_n.parent != node.parent:\n",
    "                        max_i_n.parent, node.parent = node.parent, max_i_n.parent\n",
    "                else:\n",
    "                    if node.parent.left != node:\n",
    "                        node.parent.right = max_i_n\n",
    "                        node.parent.left = node\n",
    "                    else:\n",
    "                        node.parent.right = node\n",
    "                        node.parent.left = max_i_n\n",
    "\n",
    "            self.values[node.value].remove(node)\n",
    "            node.value += 1\n",
    "            if node.value not in self.values:\n",
    "                self.values[node.value] = set()\n",
    "            self.values[node.value].add(node)\n",
    "\n",
    "    def get(self, char):\n",
    "        node = self.leaves[char]\n",
    "        code_bit = bitarray()\n",
    "\n",
    "        while node != self.root:\n",
    "            if node.parent.left != node:\n",
    "                code_bit.append(1)\n",
    "\n",
    "            else:\n",
    "                code_bit.append(0)\n",
    "\n",
    "            node = node.parent\n",
    "\n",
    "        code_bit.reverse()\n",
    "\n",
    "        return code_bit\n",
    "\n",
    "    def encode_dynamic(self, text):\n",
    "        coded_bit = bitarray()\n",
    "        for char in text:\n",
    "            if char not in self.leaves:\n",
    "                coded_char = self.get('NYT')\n",
    "                # coded_char.frombytes(char.encode('iso-8859-1'))\n",
    "                coded_bit += coded_char + bitarray(f\"{ord(char):08b}\")\n",
    "                self.add_node(char)\n",
    "            else:\n",
    "                coded_bit += self.get(char)\n",
    "                self.slide_increment(self.leaves[char])\n",
    "        end_of_bits = 8 - len(coded_bit) % 8\n",
    "        coded_bit = bitarray(f\"{end_of_bits:08b}\") + coded_bit + bitarray(end_of_bits)\n",
    "        return coded_bit\n",
    "\n",
    "\n",
    "def decode_dynamic(encoded_bit):\n",
    "    dynamic = DynamicHuff()\n",
    "    node = dynamic.root\n",
    "    index = 0\n",
    "    encoded_bit = encoded_bit[8:-ba2int(encoded_bit[:8])]\n",
    "    decoded_text = \"\"\n",
    "    while index < len(encoded_bit):\n",
    "        while not (node.left is None and node.right is None):\n",
    "            if not encoded_bit[index]:\n",
    "                node = node.left\n",
    "            else:\n",
    "                node = node.right\n",
    "            index += 1\n",
    "        if node.char != \"NYT\":\n",
    "            c_decoded = node.char\n",
    "            dynamic.slide_increment(dynamic.leaves[c_decoded])\n",
    "        else:\n",
    "            c_coded = encoded_bit[index:index + 8]\n",
    "            c_decoded = c_coded.tobytes().decode('latin1')\n",
    "            dynamic.add_node(c_decoded)\n",
    "            index += 8\n",
    "        node = dynamic.root\n",
    "        decoded_text += c_decoded\n",
    "    return decoded_text"
   ],
   "metadata": {
    "collapsed": false,
    "pycharm": {
     "name": "#%%\n"
    }
   }
  },
  {
   "cell_type": "code",
   "execution_count": 6,
   "outputs": [
    {
     "data": {
      "text/plain": "                                            text\nBefore  Text example for decoding and encoding !\nAfter   Text example for decoding and encoding !",
      "text/html": "<div>\n<style scoped>\n    .dataframe tbody tr th:only-of-type {\n        vertical-align: middle;\n    }\n\n    .dataframe tbody tr th {\n        vertical-align: top;\n    }\n\n    .dataframe thead th {\n        text-align: right;\n    }\n</style>\n<table border=\"1\" class=\"dataframe\">\n  <thead>\n    <tr style=\"text-align: right;\">\n      <th></th>\n      <th>text</th>\n    </tr>\n  </thead>\n  <tbody>\n    <tr>\n      <th>Before</th>\n      <td>Text example for decoding and encoding !</td>\n    </tr>\n    <tr>\n      <th>After</th>\n      <td>Text example for decoding and encoding !</td>\n    </tr>\n  </tbody>\n</table>\n</div>"
     },
     "execution_count": 6,
     "metadata": {},
     "output_type": "execute_result"
    }
   ],
   "source": [
    "text = \"Text example for decoding and encoding !\"\n",
    "dynamic = DynamicHuff()\n",
    "encoded = dynamic.encode_dynamic(text)\n",
    "decoded = decode_dynamic(encoded)\n",
    "pd.DataFrame(data=[text, decoded], columns=[\"text\"], index=[\"Before\", \"After\"])"
   ],
   "metadata": {
    "collapsed": false,
    "pycharm": {
     "name": "#%%\n"
    }
   }
  },
  {
   "cell_type": "markdown",
   "source": [
    "Generowanie plików dla znaków generowanych z rozkładu jednostajnego"
   ],
   "metadata": {
    "collapsed": false,
    "pycharm": {
     "name": "#%% md\n"
    }
   }
  },
  {
   "cell_type": "code",
   "execution_count": 7,
   "outputs": [],
   "source": [
    "def generate_random():\n",
    "    array_of_n = [400,4000,40000,400000]\n",
    "    array_of_files = [\"in/Random1kB.txt\",\"in/Random10kB.txt\",\"in/Random100kB.txt\",\"in/Random1MB.txt\"]\n",
    "    for index in range(len(array_of_n)):\n",
    "        numpy_random_array = np.random.randint(0,256,size = array_of_n[index])\n",
    "        array_ascii = [chr(i) for i in numpy_random_array]\n",
    "        string = ' '.join(array_ascii)\n",
    "        f = open(array_of_files[index], \"w\")\n",
    "        f.write(string)\n",
    "        f.close()"
   ],
   "metadata": {
    "collapsed": false,
    "pycharm": {
     "name": "#%%\n"
    }
   }
  },
  {
   "cell_type": "code",
   "execution_count": 8,
   "outputs": [],
   "source": [
    "generate_random()"
   ],
   "metadata": {
    "collapsed": false,
    "pycharm": {
     "name": "#%%\n"
    }
   }
  },
  {
   "cell_type": "markdown",
   "source": [
    "Testy"
   ],
   "metadata": {
    "collapsed": false,
    "pycharm": {
     "name": "#%% md\n"
    }
   }
  },
  {
   "cell_type": "code",
   "execution_count": 9,
   "outputs": [],
   "source": [
    "import os"
   ],
   "metadata": {
    "collapsed": false,
    "pycharm": {
     "name": "#%%\n"
    }
   }
  },
  {
   "cell_type": "code",
   "execution_count": 19,
   "outputs": [],
   "source": [
    "def test():\n",
    "    path = \"./in\"\n",
    "    dir_list = os.listdir(path)\n",
    "    dir_list.sort()\n",
    "    if '.DS_Store' in dir_list:\n",
    "        dir_list = dir_list[1:]\n",
    "    array_compress = []\n",
    "    for file_name in dir_list:\n",
    "        array_both = []\n",
    "        save_file = f\"out/static_{file_name}.txt\"\n",
    "        # print(file_name)\n",
    "        f = open(f'{path}/{file_name}','r')\n",
    "        text = f.read()\n",
    "        static = StaticHuff(text)\n",
    "        encoded = static.encode(text)\n",
    "        with open(save_file, \"wb+\") as f:\n",
    "            encoded.tofile(f)\n",
    "        static_compress = f'{(1 - os.path.getsize(save_file) / os.path.getsize(f\"{path}/{file_name}\"))*100}%'\n",
    "        array_both.append(static_compress)\n",
    "\n",
    "        dynamic = DynamicHuff()\n",
    "        encoded = dynamic.encode_dynamic(text)\n",
    "        save_file = f\"out/dynamic_{file_name}.txt\"\n",
    "        with open(save_file, \"wb+\") as f:\n",
    "            encoded.tofile(f)\n",
    "        dynamic_compress = f'{(1 - os.path.getsize(save_file) / os.path.getsize(f\"{path}/{file_name}\"))*100}%'\n",
    "        array_both.append(dynamic_compress)\n",
    "        array_compress.append(array_both)\n",
    "    return pd.DataFrame(data = array_compress, columns = [\"Static\",\"Dynamic\"], index = dir_list)\n"
   ],
   "metadata": {
    "collapsed": false,
    "pycharm": {
     "name": "#%%\n"
    }
   }
  },
  {
   "cell_type": "code",
   "execution_count": 20,
   "outputs": [
    {
     "data": {
      "text/plain": "                                 Static              Dynamic\nGutenberg100kB.txt   41.24218750000001%       29.3232421875%\nGutenberg10kB.txt           40.5859375%         29.19921875%\nGutenberg1MB.txt    41.898345947265625%  29.991722106933594%\nGutenberg1kB.txt              39.84375%         30.56640625%\nLinux100kB.txt      34.437244541920045%   26.18881467450902%\nLinux10kB.txt        26.09078458227353%   26.55057718646058%\nLinux1MB.txt        26.178189721518365%   24.87690483978794%\nLinux1kB.txt         34.97757847533632%  25.291479820627806%\nRandom100kB.txt      32.29657650084562%   44.75667237083071%\nRandom10kB.txt       32.85728552881254%  40.667132727454316%\nRandom1MB.txt         32.3100990126739%   45.27476792185411%\nRandom1kB.txt        37.36153071500503%  20.745216515609265%",
      "text/html": "<div>\n<style scoped>\n    .dataframe tbody tr th:only-of-type {\n        vertical-align: middle;\n    }\n\n    .dataframe tbody tr th {\n        vertical-align: top;\n    }\n\n    .dataframe thead th {\n        text-align: right;\n    }\n</style>\n<table border=\"1\" class=\"dataframe\">\n  <thead>\n    <tr style=\"text-align: right;\">\n      <th></th>\n      <th>Static</th>\n      <th>Dynamic</th>\n    </tr>\n  </thead>\n  <tbody>\n    <tr>\n      <th>Gutenberg100kB.txt</th>\n      <td>41.24218750000001%</td>\n      <td>29.3232421875%</td>\n    </tr>\n    <tr>\n      <th>Gutenberg10kB.txt</th>\n      <td>40.5859375%</td>\n      <td>29.19921875%</td>\n    </tr>\n    <tr>\n      <th>Gutenberg1MB.txt</th>\n      <td>41.898345947265625%</td>\n      <td>29.991722106933594%</td>\n    </tr>\n    <tr>\n      <th>Gutenberg1kB.txt</th>\n      <td>39.84375%</td>\n      <td>30.56640625%</td>\n    </tr>\n    <tr>\n      <th>Linux100kB.txt</th>\n      <td>34.437244541920045%</td>\n      <td>26.18881467450902%</td>\n    </tr>\n    <tr>\n      <th>Linux10kB.txt</th>\n      <td>26.09078458227353%</td>\n      <td>26.55057718646058%</td>\n    </tr>\n    <tr>\n      <th>Linux1MB.txt</th>\n      <td>26.178189721518365%</td>\n      <td>24.87690483978794%</td>\n    </tr>\n    <tr>\n      <th>Linux1kB.txt</th>\n      <td>34.97757847533632%</td>\n      <td>25.291479820627806%</td>\n    </tr>\n    <tr>\n      <th>Random100kB.txt</th>\n      <td>32.29657650084562%</td>\n      <td>44.75667237083071%</td>\n    </tr>\n    <tr>\n      <th>Random10kB.txt</th>\n      <td>32.85728552881254%</td>\n      <td>40.667132727454316%</td>\n    </tr>\n    <tr>\n      <th>Random1MB.txt</th>\n      <td>32.3100990126739%</td>\n      <td>45.27476792185411%</td>\n    </tr>\n    <tr>\n      <th>Random1kB.txt</th>\n      <td>37.36153071500503%</td>\n      <td>20.745216515609265%</td>\n    </tr>\n  </tbody>\n</table>\n</div>"
     },
     "execution_count": 20,
     "metadata": {},
     "output_type": "execute_result"
    }
   ],
   "source": [
    "test()"
   ],
   "metadata": {
    "collapsed": false,
    "pycharm": {
     "name": "#%%\n"
    }
   }
  },
  {
   "cell_type": "markdown",
   "source": [
    "Test czasu"
   ],
   "metadata": {
    "collapsed": false,
    "pycharm": {
     "name": "#%% md\n"
    }
   }
  },
  {
   "cell_type": "code",
   "execution_count": 12,
   "outputs": [],
   "source": [
    "from timeit import default_timer as timer"
   ],
   "metadata": {
    "collapsed": false,
    "pycharm": {
     "name": "#%%\n"
    }
   }
  },
  {
   "cell_type": "code",
   "execution_count": 13,
   "outputs": [],
   "source": [
    "def time_comparison():\n",
    "    path = \"./in\"\n",
    "    dir_list = os.listdir(path)\n",
    "    dir_list.sort()\n",
    "    if '.DS_Store' in dir_list:\n",
    "        dir_list = dir_list[1:]\n",
    "    array_times = []\n",
    "    for file_name in dir_list:\n",
    "        array_both = []\n",
    "        # save_file = f\"out/static_{file_name}.txt\"\n",
    "        f = open(f'{path}/{file_name}','r')\n",
    "        text = f.read()\n",
    "\n",
    "        static = StaticHuff(text)\n",
    "        start = timer()\n",
    "        encoded = static.encode(text)\n",
    "        # print(encoded)\n",
    "        static.decode(encoded)\n",
    "        end = timer()\n",
    "        array_both.append(f'{end-start}s')\n",
    "\n",
    "        dynamic = DynamicHuff()\n",
    "        start = timer()\n",
    "        encoded = dynamic.encode_dynamic(text)\n",
    "        decode_dynamic(encoded)\n",
    "        end = timer()\n",
    "        array_both.append(f'{end-start}s')\n",
    "        array_times.append(array_both)\n",
    "    return pd.DataFrame(data = array_times, columns = [\"Static\",\"Dynamic\"], index = dir_list)\n",
    "\n"
   ],
   "metadata": {
    "collapsed": false,
    "pycharm": {
     "name": "#%%\n"
    }
   }
  },
  {
   "cell_type": "code",
   "execution_count": 14,
   "outputs": [
    {
     "data": {
      "text/plain": "                                     Static                Dynamic\nGutenberg100kB.txt    0.040652416995726526s    1.5099155829520896s\nGutenberg10kB.txt    0.0034628340508788824s   0.14055541693232954s\nGutenberg1MB.txt       0.38552312506362796s    28.956765167065896s\nGutenberg1kB.txt      0.000358375022187829s   0.00802366598509252s\nLinux100kB.txt         0.03409291594289243s    1.0639557089889422s\nLinux10kB.txt        0.0037334590451791883s   0.09052545798476785s\nLinux1MB.txt           0.37988454091828316s    11.134941417025402s\nLinux1kB.txt          0.000414749956689775s  0.008897082996554673s\nRandom100kB.txt       0.029194167000241578s    0.6921473329421133s\nRandom10kB.txt       0.0029049169970676303s    0.0784751670435071s\nRandom1MB.txt          0.29555537493433803s     9.437715917010792s\nRandom1kB.txt       0.00033362500835210085s  0.011828457936644554s",
      "text/html": "<div>\n<style scoped>\n    .dataframe tbody tr th:only-of-type {\n        vertical-align: middle;\n    }\n\n    .dataframe tbody tr th {\n        vertical-align: top;\n    }\n\n    .dataframe thead th {\n        text-align: right;\n    }\n</style>\n<table border=\"1\" class=\"dataframe\">\n  <thead>\n    <tr style=\"text-align: right;\">\n      <th></th>\n      <th>Static</th>\n      <th>Dynamic</th>\n    </tr>\n  </thead>\n  <tbody>\n    <tr>\n      <th>Gutenberg100kB.txt</th>\n      <td>0.040652416995726526s</td>\n      <td>1.5099155829520896s</td>\n    </tr>\n    <tr>\n      <th>Gutenberg10kB.txt</th>\n      <td>0.0034628340508788824s</td>\n      <td>0.14055541693232954s</td>\n    </tr>\n    <tr>\n      <th>Gutenberg1MB.txt</th>\n      <td>0.38552312506362796s</td>\n      <td>28.956765167065896s</td>\n    </tr>\n    <tr>\n      <th>Gutenberg1kB.txt</th>\n      <td>0.000358375022187829s</td>\n      <td>0.00802366598509252s</td>\n    </tr>\n    <tr>\n      <th>Linux100kB.txt</th>\n      <td>0.03409291594289243s</td>\n      <td>1.0639557089889422s</td>\n    </tr>\n    <tr>\n      <th>Linux10kB.txt</th>\n      <td>0.0037334590451791883s</td>\n      <td>0.09052545798476785s</td>\n    </tr>\n    <tr>\n      <th>Linux1MB.txt</th>\n      <td>0.37988454091828316s</td>\n      <td>11.134941417025402s</td>\n    </tr>\n    <tr>\n      <th>Linux1kB.txt</th>\n      <td>0.000414749956689775s</td>\n      <td>0.008897082996554673s</td>\n    </tr>\n    <tr>\n      <th>Random100kB.txt</th>\n      <td>0.029194167000241578s</td>\n      <td>0.6921473329421133s</td>\n    </tr>\n    <tr>\n      <th>Random10kB.txt</th>\n      <td>0.0029049169970676303s</td>\n      <td>0.0784751670435071s</td>\n    </tr>\n    <tr>\n      <th>Random1MB.txt</th>\n      <td>0.29555537493433803s</td>\n      <td>9.437715917010792s</td>\n    </tr>\n    <tr>\n      <th>Random1kB.txt</th>\n      <td>0.00033362500835210085s</td>\n      <td>0.011828457936644554s</td>\n    </tr>\n  </tbody>\n</table>\n</div>"
     },
     "execution_count": 14,
     "metadata": {},
     "output_type": "execute_result"
    }
   ],
   "source": [
    "time_comparison()"
   ],
   "metadata": {
    "collapsed": false,
    "pycharm": {
     "name": "#%%\n"
    }
   }
  },
  {
   "cell_type": "markdown",
   "source": [
    "Przykładowe algorytmy kompresji:\n",
    "https://dzone.com/articles/crunch-time-10-best-compression-algorithms"
   ],
   "metadata": {
    "collapsed": false,
    "pycharm": {
     "name": "#%% md\n"
    }
   }
  },
  {
   "cell_type": "code",
   "execution_count": 22,
   "outputs": [],
   "source": [
    "from compress import Compressor"
   ],
   "metadata": {
    "collapsed": false,
    "pycharm": {
     "name": "#%%\n"
    }
   }
  },
  {
   "cell_type": "markdown",
   "source": [
    "Testy dla innego algorytmu kompresji (gzip)"
   ],
   "metadata": {
    "collapsed": false,
    "pycharm": {
     "name": "#%% md\n"
    }
   }
  },
  {
   "cell_type": "code",
   "execution_count": 43,
   "outputs": [],
   "source": [
    "def test2():\n",
    "    path = \"./in\"\n",
    "    dir_list = os.listdir(path)\n",
    "    dir_list.sort()\n",
    "    if '.DS_Store' in dir_list:\n",
    "        dir_list = dir_list[1:]\n",
    "    array_compress = []\n",
    "    for file_name in dir_list:\n",
    "        array_both = []\n",
    "        save_file = f\"out/additional_{file_name}.txt\"\n",
    "        # print(file_name)\n",
    "        f = open(f'{path}/{file_name}','r')\n",
    "        text = f.read()\n",
    "        c = Compressor()\n",
    "        c.use_gzip()\n",
    "        binary = c.compress(text)\n",
    "        encoded = bitarray()\n",
    "        encoded.frombytes(binary)\n",
    "        with open(save_file, \"wb+\") as f:\n",
    "            encoded.tofile(f)\n",
    "        compress = f'{(1 - os.path.getsize(save_file) / os.path.getsize(f\"{path}/{file_name}\"))*100}%'\n",
    "        array_both.append(compress)\n",
    "        array_compress.append(array_both)\n",
    "    return pd.DataFrame(data = array_compress, columns = [\"Additional\"], index = dir_list)"
   ],
   "metadata": {
    "collapsed": false,
    "pycharm": {
     "name": "#%%\n"
    }
   }
  },
  {
   "cell_type": "code",
   "execution_count": 44,
   "outputs": [
    {
     "data": {
      "text/plain": "                             Additional\nGutenberg100kB.txt       60.7451171875%\nGutenberg10kB.txt    51.67968750000001%\nGutenberg1MB.txt     63.63382339477539%\nGutenberg1kB.txt            42.7734375%\nLinux100kB.txt       71.45548798723955%\nLinux10kB.txt        71.32655057718647%\nLinux1MB.txt         78.04380976540632%\nLinux1kB.txt        55.336322869955154%\nRandom100kB.txt      43.75994475967456%\nRandom10kB.txt       41.28632777389394%\nRandom1MB.txt       44.411170157966176%\nRandom1kB.txt        32.82980866062437%",
      "text/html": "<div>\n<style scoped>\n    .dataframe tbody tr th:only-of-type {\n        vertical-align: middle;\n    }\n\n    .dataframe tbody tr th {\n        vertical-align: top;\n    }\n\n    .dataframe thead th {\n        text-align: right;\n    }\n</style>\n<table border=\"1\" class=\"dataframe\">\n  <thead>\n    <tr style=\"text-align: right;\">\n      <th></th>\n      <th>Additional</th>\n    </tr>\n  </thead>\n  <tbody>\n    <tr>\n      <th>Gutenberg100kB.txt</th>\n      <td>60.7451171875%</td>\n    </tr>\n    <tr>\n      <th>Gutenberg10kB.txt</th>\n      <td>51.67968750000001%</td>\n    </tr>\n    <tr>\n      <th>Gutenberg1MB.txt</th>\n      <td>63.63382339477539%</td>\n    </tr>\n    <tr>\n      <th>Gutenberg1kB.txt</th>\n      <td>42.7734375%</td>\n    </tr>\n    <tr>\n      <th>Linux100kB.txt</th>\n      <td>71.45548798723955%</td>\n    </tr>\n    <tr>\n      <th>Linux10kB.txt</th>\n      <td>71.32655057718647%</td>\n    </tr>\n    <tr>\n      <th>Linux1MB.txt</th>\n      <td>78.04380976540632%</td>\n    </tr>\n    <tr>\n      <th>Linux1kB.txt</th>\n      <td>55.336322869955154%</td>\n    </tr>\n    <tr>\n      <th>Random100kB.txt</th>\n      <td>43.75994475967456%</td>\n    </tr>\n    <tr>\n      <th>Random10kB.txt</th>\n      <td>41.28632777389394%</td>\n    </tr>\n    <tr>\n      <th>Random1MB.txt</th>\n      <td>44.411170157966176%</td>\n    </tr>\n    <tr>\n      <th>Random1kB.txt</th>\n      <td>32.82980866062437%</td>\n    </tr>\n  </tbody>\n</table>\n</div>"
     },
     "execution_count": 44,
     "metadata": {},
     "output_type": "execute_result"
    }
   ],
   "source": [
    "test2()"
   ],
   "metadata": {
    "collapsed": false,
    "pycharm": {
     "name": "#%%\n"
    }
   }
  },
  {
   "cell_type": "markdown",
   "source": [
    "W tym przypadku algorytm dla większości działa dużo lepiej (uzyskał lepszy współczynnik kompresji)"
   ],
   "metadata": {
    "collapsed": false,
    "pycharm": {
     "name": "#%% md\n"
    }
   }
  },
  {
   "cell_type": "code",
   "execution_count": 68,
   "outputs": [],
   "source": [
    "def test3():\n",
    "    path = \"./in\"\n",
    "    dir_list = os.listdir(path)\n",
    "    dir_list.sort()\n",
    "    if '.DS_Store' in dir_list:\n",
    "        dir_list = dir_list[1:]\n",
    "    array_compress = []\n",
    "    for file_name in dir_list:\n",
    "        array_both = []\n",
    "        save_file = f\"out/additional_{file_name}.txt\"\n",
    "        # print(file_name)\n",
    "        f = open(f'{path}/{file_name}','r')\n",
    "        text = f.read()\n",
    "        c = Compressor()\n",
    "        c.use_bz2()\n",
    "        binary = c.compress(text)\n",
    "        encoded = bitarray()\n",
    "        encoded.frombytes(binary)\n",
    "        with open(save_file, \"wb+\") as f:\n",
    "            encoded.tofile(f)\n",
    "        compress = f'{(1 - os.path.getsize(save_file) / os.path.getsize(f\"{path}/{file_name}\"))*100}%'\n",
    "        array_both.append(compress)\n",
    "        array_compress.append(array_both)\n",
    "    return pd.DataFrame(data = array_compress, columns = [\"Additional\"], index = dir_list)"
   ],
   "metadata": {
    "collapsed": false,
    "pycharm": {
     "name": "#%%\n"
    }
   }
  },
  {
   "cell_type": "code",
   "execution_count": 69,
   "outputs": [
    {
     "data": {
      "text/plain": "                             Additional\nGutenberg100kB.txt       66.4306640625%\nGutenberg10kB.txt           55.0390625%\nGutenberg1MB.txt     72.84202575683594%\nGutenberg1kB.txt           38.37890625%\nLinux100kB.txt       76.19479613199083%\nLinux10kB.txt         69.7906476227744%\nLinux1MB.txt         85.45431483941601%\nLinux1kB.txt        51.300448430493276%\nRandom100kB.txt      58.48269236542676%\nRandom10kB.txt       54.91860581244382%\nRandom1MB.txt        58.70304299684628%\nRandom1kB.txt        38.56998992950654%",
      "text/html": "<div>\n<style scoped>\n    .dataframe tbody tr th:only-of-type {\n        vertical-align: middle;\n    }\n\n    .dataframe tbody tr th {\n        vertical-align: top;\n    }\n\n    .dataframe thead th {\n        text-align: right;\n    }\n</style>\n<table border=\"1\" class=\"dataframe\">\n  <thead>\n    <tr style=\"text-align: right;\">\n      <th></th>\n      <th>Additional</th>\n    </tr>\n  </thead>\n  <tbody>\n    <tr>\n      <th>Gutenberg100kB.txt</th>\n      <td>66.4306640625%</td>\n    </tr>\n    <tr>\n      <th>Gutenberg10kB.txt</th>\n      <td>55.0390625%</td>\n    </tr>\n    <tr>\n      <th>Gutenberg1MB.txt</th>\n      <td>72.84202575683594%</td>\n    </tr>\n    <tr>\n      <th>Gutenberg1kB.txt</th>\n      <td>38.37890625%</td>\n    </tr>\n    <tr>\n      <th>Linux100kB.txt</th>\n      <td>76.19479613199083%</td>\n    </tr>\n    <tr>\n      <th>Linux10kB.txt</th>\n      <td>69.7906476227744%</td>\n    </tr>\n    <tr>\n      <th>Linux1MB.txt</th>\n      <td>85.45431483941601%</td>\n    </tr>\n    <tr>\n      <th>Linux1kB.txt</th>\n      <td>51.300448430493276%</td>\n    </tr>\n    <tr>\n      <th>Random100kB.txt</th>\n      <td>58.48269236542676%</td>\n    </tr>\n    <tr>\n      <th>Random10kB.txt</th>\n      <td>54.91860581244382%</td>\n    </tr>\n    <tr>\n      <th>Random1MB.txt</th>\n      <td>58.70304299684628%</td>\n    </tr>\n    <tr>\n      <th>Random1kB.txt</th>\n      <td>38.56998992950654%</td>\n    </tr>\n  </tbody>\n</table>\n</div>"
     },
     "execution_count": 69,
     "metadata": {},
     "output_type": "execute_result"
    }
   ],
   "source": [
    "test3()"
   ],
   "metadata": {
    "collapsed": false,
    "pycharm": {
     "name": "#%%\n"
    }
   }
  },
  {
   "cell_type": "markdown",
   "source": [
    "Użycie algorytmu bzip2 też poprawiło współczynnik konwersji\n"
   ],
   "metadata": {
    "collapsed": false,
    "pycharm": {
     "name": "#%% md\n"
    }
   }
  }
 ],
 "metadata": {
  "kernelspec": {
   "display_name": "Python 3",
   "language": "python",
   "name": "python3"
  },
  "language_info": {
   "codemirror_mode": {
    "name": "ipython",
    "version": 2
   },
   "file_extension": ".py",
   "mimetype": "text/x-python",
   "name": "python",
   "nbconvert_exporter": "python",
   "pygments_lexer": "ipython2",
   "version": "2.7.6"
  }
 },
 "nbformat": 4,
 "nbformat_minor": 0
}