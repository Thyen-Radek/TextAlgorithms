{
 "cells": [
  {
   "cell_type": "markdown",
   "metadata": {
    "collapsed": true,
    "pycharm": {
     "name": "#%% md\n"
    }
   },
   "source": [
    "## Lab3 - Obliczanie odległości edycyjnej\n",
    "\n",
    "Odległość Levenshteina:"
   ]
  },
  {
   "cell_type": "code",
   "execution_count": 96,
   "outputs": [],
   "source": [
    "def get_matrix_distance(word1,word2,val = 0):\n",
    "    word1,word2 = word2,word1\n",
    "    n = len(word1)\n",
    "    m = len(word2)\n",
    "    matrix = [[0 for _ in range(n+1)] for _ in range(m+1)]\n",
    "\n",
    "    for i in range(n+1):\n",
    "        matrix[0][i] = i\n",
    "    for i in range(m+1):\n",
    "        matrix[i][0] = i\n",
    "\n",
    "    for i in range(1,m+1):\n",
    "        for j in range(1,n+1):\n",
    "            if(word1[j-1] == word2[i-1]):\n",
    "                matrix[i][j] = matrix[i-1][j-1]\n",
    "            else:\n",
    "                matrix[i][j] = 1 + min(matrix[i-1][j-1] + val,matrix[i-1][j],matrix[i][j-1])\n",
    "    return matrix"
   ],
   "metadata": {
    "collapsed": false,
    "pycharm": {
     "name": "#%%\n"
    }
   }
  },
  {
   "cell_type": "code",
   "execution_count": 173,
   "outputs": [],
   "source": [
    "def get_path(word1,word2,matrix):\n",
    "    w1_n = len(word1)\n",
    "    w2_n = len(word2)\n",
    "\n",
    "    oper = []\n",
    "    pos = []\n",
    "    while w1_n > 0 or w2_n > 0:\n",
    "        if (matrix[w1_n-1][w2_n] + 1 == matrix[w1_n][w2_n]):\n",
    "            oper.append(\"-\")\n",
    "            w1_n-=1\n",
    "        elif(matrix[w1_n][w2_n-1] + 1 == matrix[w1_n][w2_n]):\n",
    "            oper.append(\"+\")\n",
    "            w2_n-=1\n",
    "        elif(matrix[w1_n-1][w2_n-1] == matrix[w1_n][w2_n]):\n",
    "            oper.append(\"?\")\n",
    "            w1_n-=1\n",
    "            w2_n-=1\n",
    "        else:\n",
    "            oper.append(\"/\")\n",
    "            w1_n-=1\n",
    "            w2_n-=1\n",
    "        pos.append(w2_n)\n",
    "    oper.reverse()\n",
    "    pos.reverse()\n",
    "    return oper,pos"
   ],
   "metadata": {
    "collapsed": false,
    "pycharm": {
     "name": "#%%\n"
    }
   }
  },
  {
   "cell_type": "code",
   "execution_count": 174,
   "outputs": [],
   "source": [
    "def visual(word1,word2,path):\n",
    "    i = 0\n",
    "    print()\n",
    "    for oper in path:\n",
    "        if(oper == \"+\"):\n",
    "            print(f\"Insert in {word1[:i]}[{word2[i]}]{word1[i:]}\")\n",
    "            word1 = word1[:i] + word2[i] + word1[i:]\n",
    "            print(f\"After inserting: {word1}\")\n",
    "            print(\"\\n\")\n",
    "        elif(oper == \"-\"):\n",
    "            print(f\"Remove from {word1[:i]}[{word1[i]}]{word1[i+1:]}\")\n",
    "            word1 = word1[:i] + word1[i+1:]\n",
    "            print(f\"After removing: {word1}\")\n",
    "            print(\"\\n\")\n",
    "            continue\n",
    "        elif(oper == \"/\"):\n",
    "            print(f\"Replace from {word1[:i]}[{word1[i]} -> {word2[i]}]{word1[i+1:]}\")\n",
    "            word1 = word1[:i] + word2[i] + word1[i+1:]\n",
    "            print(f\"After replacing: {word1}\")\n",
    "            print(\"\\n\")\n",
    "        i += 1\n",
    "\n"
   ],
   "metadata": {
    "collapsed": false,
    "pycharm": {
     "name": "#%%\n"
    }
   }
  },
  {
   "cell_type": "code",
   "execution_count": 175,
   "outputs": [],
   "source": [
    "def algorithm(word1,word2):\n",
    "    matrix = get_matrix_distance(word1,word2)\n",
    "    print(f\"Transferring from {word1} to {word2}\")\n",
    "    print(f\"Distance: {matrix[-1][-1]}\")\n",
    "    path = get_path(word1,word2,matrix)[0]\n",
    "    visual(word1,word2,path)\n"
   ],
   "metadata": {
    "collapsed": false,
    "pycharm": {
     "name": "#%%\n"
    }
   }
  },
  {
   "cell_type": "code",
   "execution_count": 176,
   "outputs": [
    {
     "name": "stdout",
     "output_type": "stream",
     "text": [
      "Transferring from los to kloc\n",
      "Distance: 2\n",
      "\n",
      "Insert in [k]los\n",
      "After inserting: klos\n",
      "\n",
      "\n",
      "Replace from klo[s -> c]\n",
      "After replacing: kloc\n",
      "\n",
      "\n"
     ]
    }
   ],
   "source": [
    "w1 = \"los\"\n",
    "w2 = \"kloc\"\n",
    "algorithm(w1,w2)\n"
   ],
   "metadata": {
    "collapsed": false,
    "pycharm": {
     "name": "#%%\n"
    }
   }
  },
  {
   "cell_type": "code",
   "execution_count": 177,
   "outputs": [
    {
     "name": "stdout",
     "output_type": "stream",
     "text": [
      "Transferring from Łódź to Lodz\n",
      "Distance: 3\n",
      "\n",
      "Replace from [Ł -> L]ódź\n",
      "After replacing: Lódź\n",
      "\n",
      "\n",
      "Replace from L[ó -> o]dź\n",
      "After replacing: Lodź\n",
      "\n",
      "\n",
      "Replace from Lod[ź -> z]\n",
      "After replacing: Lodz\n",
      "\n",
      "\n"
     ]
    }
   ],
   "source": [
    "w1 = \"Łódź\"\n",
    "w2 = \"Lodz\"\n",
    "algorithm(w1,w2)\n"
   ],
   "metadata": {
    "collapsed": false,
    "pycharm": {
     "name": "#%%\n"
    }
   }
  },
  {
   "cell_type": "code",
   "execution_count": 178,
   "outputs": [
    {
     "name": "stdout",
     "output_type": "stream",
     "text": [
      "Transferring from kwintesencja to quintessence\n",
      "Distance: 5\n",
      "\n",
      "Replace from [k -> q]wintesencja\n",
      "After replacing: qwintesencja\n",
      "\n",
      "\n",
      "Replace from q[w -> u]intesencja\n",
      "After replacing: quintesencja\n",
      "\n",
      "\n",
      "Insert in quintes[s]encja\n",
      "After inserting: quintessencja\n",
      "\n",
      "\n",
      "Replace from quintessenc[j -> e]a\n",
      "After replacing: quintessencea\n",
      "\n",
      "\n",
      "Remove from quintessence[a]\n",
      "After removing: quintessence\n",
      "\n",
      "\n"
     ]
    }
   ],
   "source": [
    "w1 = \"kwintesencja\"\n",
    "w2 = \"quintessence\"\n",
    "algorithm(w1,w2)"
   ],
   "metadata": {
    "collapsed": false,
    "pycharm": {
     "name": "#%%\n"
    }
   }
  },
  {
   "cell_type": "code",
   "execution_count": 179,
   "outputs": [
    {
     "name": "stdout",
     "output_type": "stream",
     "text": [
      "Transferring from ATGAATCTTACCGCCTCG to ATGAGGCTCTGGCCCCTG\n",
      "Distance: 7\n",
      "\n",
      "Replace from ATGA[A -> G]TCTTACCGCCTCG\n",
      "After replacing: ATGAGTCTTACCGCCTCG\n",
      "\n",
      "\n",
      "Replace from ATGAG[T -> G]CTTACCGCCTCG\n",
      "After replacing: ATGAGGCTTACCGCCTCG\n",
      "\n",
      "\n",
      "Insert in ATGAGGCT[C]TACCGCCTCG\n",
      "After inserting: ATGAGGCTCTACCGCCTCG\n",
      "\n",
      "\n",
      "Replace from ATGAGGCTCT[A -> G]CCGCCTCG\n",
      "After replacing: ATGAGGCTCTGCCGCCTCG\n",
      "\n",
      "\n",
      "Insert in ATGAGGCTCTG[G]CCGCCTCG\n",
      "After inserting: ATGAGGCTCTGGCCGCCTCG\n",
      "\n",
      "\n",
      "Remove from ATGAGGCTCTGGCC[G]CCTCG\n",
      "After removing: ATGAGGCTCTGGCCCCTCG\n",
      "\n",
      "\n",
      "Remove from ATGAGGCTCTGGCCCCT[C]G\n",
      "After removing: ATGAGGCTCTGGCCCCTG\n",
      "\n",
      "\n"
     ]
    }
   ],
   "source": [
    "w1 = \"ATGAATCTTACCGCCTCG\"\n",
    "w2 = \"ATGAGGCTCTGGCCCCTG\"\n",
    "algorithm(w1,w2)"
   ],
   "metadata": {
    "collapsed": false,
    "pycharm": {
     "name": "#%%\n"
    }
   }
  },
  {
   "cell_type": "markdown",
   "source": [
    "Zaimplementuj algorytm obliczania najdłuższego wspólnego podciągu dla pary ciągów elementów.\n",
    "\n",
    "2 * lcs(word1,word2) = |word1| + |word2| - edid_di(word1,word2)"
   ],
   "metadata": {
    "collapsed": false,
    "pycharm": {
     "name": "#%% md\n"
    }
   }
  },
  {
   "cell_type": "code",
   "execution_count": 108,
   "outputs": [],
   "source": [
    "def lcs(word1,word2):\n",
    "    return (len(word1) + len(word2) - get_matrix_distance(word1,word2,1)[-1][-1])/2\n"
   ],
   "metadata": {
    "collapsed": false,
    "pycharm": {
     "name": "#%%\n"
    }
   }
  },
  {
   "cell_type": "code",
   "execution_count": 121,
   "outputs": [
    {
     "name": "stdout",
     "output_type": "stream",
     "text": [
      "Najdłuższy wspólny podciąg: 7.0\n"
     ]
    }
   ],
   "source": [
    "print(f\"Najdłuższy wspólny podciąg: {lcs('matematyka', 'gramatyka')}\")"
   ],
   "metadata": {
    "collapsed": false,
    "pycharm": {
     "name": "#%%\n"
    }
   }
  },
  {
   "cell_type": "markdown",
   "source": [
    "Korzystając z gotowego tokenizera (np spaCy - https://spacy.io/api/tokenizer) dokonaj podziału załączonego tekstu na tokeny.\n",
    "\n",
    "Biblioteki:"
   ],
   "metadata": {
    "collapsed": false,
    "pycharm": {
     "name": "#%% md\n"
    }
   }
  },
  {
   "cell_type": "code",
   "execution_count": 131,
   "outputs": [],
   "source": [
    "from spacy.tokenizer import Tokenizer\n",
    "from spacy.lang.pl import Polish\n",
    "import numpy as np"
   ],
   "metadata": {
    "collapsed": false,
    "pycharm": {
     "name": "#%%\n"
    }
   }
  },
  {
   "cell_type": "code",
   "execution_count": 126,
   "outputs": [],
   "source": [
    "nlp = Polish()\n",
    "tokenizer = Tokenizer(nlp.vocab)"
   ],
   "metadata": {
    "collapsed": false,
    "pycharm": {
     "name": "#%%\n"
    }
   }
  },
  {
   "cell_type": "code",
   "execution_count": 127,
   "outputs": [],
   "source": [
    "with open(\"romeo-i-julia-700.txt\", \"r\", encoding=\"utf-8\") as f:\n",
    "    text = f.read()"
   ],
   "metadata": {
    "collapsed": false,
    "pycharm": {
     "name": "#%%\n"
    }
   }
  },
  {
   "cell_type": "code",
   "execution_count": 128,
   "outputs": [],
   "source": [
    "tokens = tokenizer(text)"
   ],
   "metadata": {
    "collapsed": false,
    "pycharm": {
     "name": "#%%\n"
    }
   }
  },
  {
   "cell_type": "markdown",
   "source": [
    "Stwórz 2 wersje załączonego tekstu, w których usunięto 3% losowych tokenów."
   ],
   "metadata": {
    "collapsed": false,
    "pycharm": {
     "name": "#%% md\n"
    }
   }
  },
  {
   "cell_type": "code",
   "execution_count": 143,
   "outputs": [],
   "source": [
    "def del_from_token(tokens, percent=3):\n",
    "    result = []\n",
    "    possibility = percent/100\n",
    "    for token in tokens:\n",
    "        rand = np.random.random()\n",
    "        if rand > possibility:\n",
    "            result.append(token)\n",
    "    return result\n"
   ],
   "metadata": {
    "collapsed": false,
    "pycharm": {
     "name": "#%%\n"
    }
   }
  },
  {
   "cell_type": "code",
   "execution_count": 144,
   "outputs": [],
   "source": [
    "tokens1 = del_from_token(tokens)\n",
    "tokens2 = del_from_token(tokens)"
   ],
   "metadata": {
    "collapsed": false,
    "pycharm": {
     "name": "#%%\n"
    }
   }
  },
  {
   "cell_type": "code",
   "execution_count": 145,
   "outputs": [],
   "source": [
    "with open(\"text1.txt\", \"w\", encoding=\"utf-8\") as f:\n",
    "    for token in tokens1:\n",
    "        f.write(token.text_with_ws)"
   ],
   "metadata": {
    "collapsed": false,
    "pycharm": {
     "name": "#%%\n"
    }
   }
  },
  {
   "cell_type": "code",
   "execution_count": 146,
   "outputs": [],
   "source": [
    "with open(\"text2.txt\", \"w\", encoding=\"utf-8\") as f:\n",
    "    for token in tokens2:\n",
    "        f.write(token.text_with_ws)"
   ],
   "metadata": {
    "collapsed": false,
    "pycharm": {
     "name": "#%%\n"
    }
   }
  },
  {
   "cell_type": "markdown",
   "source": [
    "Oblicz długość najdłuższego podciągu wspólnych tokenów dla tych tekstów."
   ],
   "metadata": {
    "collapsed": false,
    "pycharm": {
     "name": "#%% md\n"
    }
   }
  },
  {
   "cell_type": "code",
   "execution_count": 150,
   "outputs": [
    {
     "name": "stdout",
     "output_type": "stream",
     "text": [
      "Najdłuższy wspólny podciąg: 2138.0\n"
     ]
    }
   ],
   "source": [
    "print(f\"Najdłuższy wspólny podciąg: {lcs(tokens1,tokens2)}\")"
   ],
   "metadata": {
    "collapsed": false,
    "pycharm": {
     "name": "#%%\n"
    }
   }
  },
  {
   "cell_type": "code",
   "execution_count": 148,
   "outputs": [],
   "source": [
    "with open(\"text1.txt\", \"r\", encoding=\"utf-8\") as f:\n",
    "    text1 = f.read()"
   ],
   "metadata": {
    "collapsed": false,
    "pycharm": {
     "name": "#%%\n"
    }
   }
  },
  {
   "cell_type": "code",
   "execution_count": 149,
   "outputs": [],
   "source": [
    "with open(\"text2.txt\", \"r\", encoding=\"utf-8\") as f:\n",
    "    text2 = f.read()"
   ],
   "metadata": {
    "collapsed": false,
    "pycharm": {
     "name": "#%%\n"
    }
   }
  },
  {
   "cell_type": "code",
   "execution_count": 151,
   "outputs": [
    {
     "name": "stdout",
     "output_type": "stream",
     "text": [
      "Najdłuższy wspólny podciąg: 11883.0\n"
     ]
    }
   ],
   "source": [
    "print(f\"Najdłuższy wspólny podciąg: {lcs(text1,text2)}\")\n"
   ],
   "metadata": {
    "collapsed": false,
    "pycharm": {
     "name": "#%%\n"
    }
   }
  },
  {
   "cell_type": "markdown",
   "source": [
    "Korzystając z algorytmu z punktu 4 skonstruuj narzędzie, o działaniu podobnym do narzędzia diff, tzn. wskazującego w dwóch plikach linie, które się różnią. Na wyjściu narzędzia powinny znaleźć się elementy, które nie należą do najdłuższego wspólnego podciągu. Należy wskazać skąd dana linia pochodzi (< > - pierwszy/drugi plik) oraz numer linii w danym pliku. Traktujemy teraz całą linię jako podstawową, niepodzielną jednostkę ciągu.\n",
    "\n",
    "Biblioteka:"
   ],
   "metadata": {
    "collapsed": false,
    "pycharm": {
     "name": "#%% md\n"
    }
   }
  },
  {
   "cell_type": "code",
   "execution_count": 153,
   "outputs": [],
   "source": [
    "from bisect import bisect"
   ],
   "metadata": {
    "collapsed": false,
    "pycharm": {
     "name": "#%%\n"
    }
   }
  },
  {
   "cell_type": "code",
   "execution_count": 166,
   "outputs": [],
   "source": [
    "def lcs2(x, y):\n",
    "    x_n = len(x)\n",
    "    y_n = len(y)\n",
    "    ranges = []\n",
    "    ranges.append(y_n)\n",
    "\n",
    "    for i in range(x_n):\n",
    "        positions = [j for j in range(y_n) if y[j] == x[i]]\n",
    "        positions.reverse()\n",
    "        for p in positions:\n",
    "            k = bisect(ranges, p)\n",
    "            if k == bisect(ranges, p - 1):\n",
    "                if k >= len(ranges) - 1:\n",
    "                    ranges[k:k] = [p]\n",
    "\n",
    "                else:\n",
    "                    ranges[k] = p\n",
    "    return len(ranges) - 1"
   ],
   "metadata": {
    "collapsed": false,
    "pycharm": {
     "name": "#%%\n"
    }
   }
  },
  {
   "cell_type": "code",
   "execution_count": 167,
   "outputs": [
    {
     "name": "stdout",
     "output_type": "stream",
     "text": [
      "Najdłuższy wspólny podciąg: 2138\n"
     ]
    }
   ],
   "source": [
    "print(f\"Najdłuższy wspólny podciąg: {lcs2(tokens1,tokens2)}\")"
   ],
   "metadata": {
    "collapsed": false,
    "pycharm": {
     "name": "#%%\n"
    }
   }
  },
  {
   "cell_type": "markdown",
   "source": [
    "Przedstaw wynik działania narzędzia na tekstach z punktu 6. Zwróć uwagę na dodanie znaków przejścia do nowej linii, które są usuwane w trakcie tokenizacji."
   ],
   "metadata": {
    "collapsed": false,
    "pycharm": {
     "name": "#%% md\n"
    }
   }
  },
  {
   "cell_type": "code",
   "execution_count": 192,
   "outputs": [],
   "source": [
    "def diff():\n",
    "    with open(\"text1.txt\", \"r\", encoding=\"utf-8\") as f:\n",
    "        text1 = f.read()\n",
    "\n",
    "    with open(\"text2.txt\", \"r\", encoding=\"utf-8\") as f:\n",
    "        text2 = f.read()\n",
    "\n",
    "    text1 = text1.split('\\n')\n",
    "    text2 = text2.split('\\n')\n",
    "\n",
    "    matrix = get_matrix_distance(text1, text2, 1)\n",
    "\n",
    "    operations, positions = get_path(text1, text2, matrix)\n",
    "\n",
    "    j = 0\n",
    "    for i in range(len(operations)):\n",
    "        oper = operations[i]\n",
    "        pos = positions[i]\n",
    "        if oper == \"-\":\n",
    "            print(f\"< ({pos + j + 1}) {text2[pos + j]}\")\n",
    "            j += 1\n",
    "        elif oper == \"+\":\n",
    "            print(f\"> ({pos + 1}) {text1[pos]}\")\n",
    "            j -= 1\n"
   ],
   "metadata": {
    "collapsed": false,
    "pycharm": {
     "name": "#%%\n"
    }
   }
  },
  {
   "cell_type": "code",
   "execution_count": 194,
   "outputs": [
    {
     "name": "stdout",
     "output_type": "stream",
     "text": [
      "> (12)  * PARYS — młody Weroneńczyk szlachetnego rodu, krewny księcia\n",
      "> (13)  * MONTEKI, — naczelnicy dwóch domów nieprzyjaznych sobie\n",
      "< (12)  * — młody Weroneńczyk szlachetnego rodu, krewny księcia\n",
      "< (13)  * MONTEKI, KAPULET — naczelnicy dwóch domów nieprzyjaznych sobie\n",
      "> (15)  * ROMEO — syn \n",
      "< (15)  * ROMEO — syn Montekiego\n",
      "> (17)  * BENWOLIO — synowiec Montekiego\n",
      "< (17)  * — synowiec Montekiego\n",
      "> (23)  * ABRAHAM — służący Montekiego\n",
      "< (23)  * ABRAHAM — Montekiego\n",
      "> (29)  * PANI MONTEKI małżonka Montekiego\n",
      "< (29)  * PANI MONTEKI — małżonka Montekiego* PANI KAPULET — małżonka Kapuleta\n",
      "< (30)  * JULIA — córka Kapuletów\n",
      "> (32)  * MARTA — mamka Julii\n",
      "< (33) \n",
      "> (41) \n",
      "< (42) \n",
      "< (44) Tam, gdzie się rzecz ta rozgrywa, w Weronie,\n",
      "< (45) Do nowej zbrodni pchają złości dawne,\n",
      "> (45) \n",
      "> (46) Dwa rody, zacne jednako i sławne —\n",
      "< (48) Z łon tych dwu wrogów wzięło bowiem życie,\n",
      "> (55) Tej ich miłości przebieg zbyt bolesny\n",
      "< (57) Które otoczcie cierpliwymi względy,\n",
      "< (58) Jest w nim co złego, my usuniem błędy…\n",
      "> (58) Dwugodzinnego treścią \n",
      "< (61) \n",
      "> (62) \n",
      "> (63) \n",
      "> (64) \n",
      "> (65) SCENA PIERWSZA\n",
      "> (66) \n",
      "> (79) Ale będziemy darli koty, jak z nami zadrą.\n",
      "< (77) GRZEGORZ\n",
      "> (81) \n",
      "> (82) GRZEGORZ\n",
      "> (83) \n",
      "> (99) Te psy z domu Montekich rozruchać mię mogą bardzo łatwo.\n",
      "< (94) Mam zwyczaj drapać zaraz, jak mię kto rozrucha.\n",
      "> (109) psy z domu Montekich rozruchać mię mogą tylko do stania na miejscu. Będę jak mur dla każdego mężczyzny i każdej kobiety z tego domu.\n",
      "< (104) Te psy z domu Montekich rozruchać mię mogą bardzo łatwo.\n",
      "> (114) To właśnie pokazuje twoją słabą stronę; mur dla nikogo niestraszny i tylko słabi go się trzymają.\n",
      "< (109) Rozruchać się tyle znaczy co ruszyć się z miejsca; być walecznym jest to stać nieporuszenie: pojmuję więc, że skutkiem rozruchania się twego będzie - drapnięcie.\n",
      "> (119) Prawda, dlatego to kobiety, jako najsłabsze, tulą się zawsze do muru. Ja też odtrącę od muru ludzi Montekich, a kobiety Montekich przyprę do muru.\n",
      "< (114) Te psy z domu Montekich rozruchać mię mogą tylko do stania na miejscu. Będę jak mur dla każdego mężczyzny i każdej kobiety z tego domu.\n",
      "> (129) Mniejsza mi o to, będę nieubłagany. Pobiwszy ludzi, wściekłość na kobietach: między nimi sprawię.\n",
      "< (124) Prawda, dlatego to kobiety, jako najsłabsze, tulą się zawsze do muru. Ja też odtrącę od muru ludzi Montekich, a kobiety Montekich przyprę do muru.\n",
      "> (134) Rzeź kobiet chcesz przedsiębrać?\n",
      "< (129) jest tylko między naszymi panami i między nami, ich ludźmi.\n",
      "> (144) Tym lepiej, że się liczysz do zwierząt; bo gdybyś się liczył do ryb, to byłbyś sztokfiszem. Weź no się za instrument, bo oto nadchodzi dwóch domowników Montekiego.\n",
      "< (139) Rzeź kobiet chcesz przedsiębrać?\n",
      "> (149) SAMSON\n",
      "< (144) Nie inaczej: miecz w każdą po kolei. Wiadomo, że się do lwów liczę.\n",
      "> (151) Mój giwer już dobyty: zaczep ich, ja stanę z tyłu.\n",
      "< (146) \n",
      "> (171) Miejmy prawo za sobą, niech oni zaczną.\n",
      "< (166) Nie bój się.\n",
      "> (181) \n",
      "< (176) Miejmy prawo za sobą, niech oni zaczną.\n",
      "> (184) \n",
      "< (179) GRZEGORZ\n",
      "> (186) \n",
      "< (182) \n",
      "> (189) \n",
      "> (191) \n",
      "> (192) Czy na nas się skrzywiłeś, mości panie?\n",
      "> (193) \n",
      "> (206) \n",
      "< (197) \n",
      "> (216) Zaczepki waść szukasz?\n",
      "< (207) \n",
      "< (209) \n",
      "< (211) GRZEGORZ\n",
      "> (228) \n",
      "< (221) / do Abrahama /\n",
      "> (233) \n",
      "< (226) ABRAHAM\n",
      "> (243) / na stronie do Samsona /\n",
      "< (236) ABRAHAM\n",
      "> (255) \n",
      "< (248) GRZEGORZ\n",
      "> (257) \n",
      "< (251) \n",
      "> (260) \n",
      "> (262) \n",
      "> (263) / Rozdziela ich swoim mieczem. \n",
      "> (264) \n",
      "> (267) \n",
      "< (256) \n",
      "> (274) BENWOLIO\n",
      "< (263) \n",
      "> (294) / Wchodzą Kapulet i Pani Kapulet /\n",
      "> (295) \n",
      "< (283) \n",
      "> (298) \n",
      "< (286) \n",
      "> (306) \n",
      "< (294) Tego wyrazu, tak jak nienawidzę\n",
      "> (311) I szydnie swoją klingą mi urąga.\n",
      "< (299) \n",
      "> (317) \n",
      "< (305) \n",
      "> (325) PANI MONTEKI\n",
      "< (313) \n",
      "> (339) Pod karą tortur wypuśćcie natychmiast\n",
      "< (327) \n",
      "< (332) / do żony /\n",
      "> (345) Trzykroć już spokój miasta zakłóciły,\n",
      "> (350) By zardzewiałym ostrzem zardzewiałe\n",
      "< (338) \n",
      "> (352) Wzniecicie kiedyś waśń \n",
      "< (340) \n",
      "> (355) Ty, Kapulecie, pójdziesz ze mną razem;\n",
      "< (343) \n",
      "< (344) \n",
      "> (359) Jeszcze raz wzywam wszystkich tu obecnych\n",
      "< (348) Czy nie słyszycie? Ludzie czy zwierzęta,\n",
      "> (363) \n",
      "< (352) Z dłoni skrwawionych tę broń buntowniczą\n",
      "> (367) Kto wszczął tę nową zwadę? Mów, synowcze,\n",
      "< (356) Trzykroć już spokój miasta zakłóciły,\n",
      "< (357) Tak że poważni wiekiem i zasługą\n",
      "> (372) \n",
      "< (362) Niechęci wasze przecinać. Jeżeli\n",
      "> (385) \n",
      "> (386) PANI MONTEKI\n",
      "< (375) MONTEKI\n",
      "< (376) \n",
      "> (391) \n",
      "> (392) BENWOLIO\n",
      "> (393) \n",
      "< (381) BENWOLIO\n",
      "< (382) \n",
      "< (383) Nieprzyjaciela naszego pachołcy\n",
      "> (399) Tam, już tak rano, syn wasz się przechadzał.\n",
      "< (389) Które świszczało tylko szydząc z marnych\n",
      "> (404) Mierząc mym własnym (serce nasze bowiem\n",
      "< (394) \n",
      "> (407) I w inną stronę się udałem, chętnie\n",
      "> (408) Stroniąc od tego, co rad mnie unikał.\n",
      "> (409) \n",
      "> (410) \n",
      "> (411) MONTEKI\n",
      "< (397) \n",
      "< (398) Lecz gdzież Romeo? Widział żeś go dzisiaj?\n",
      "< (399) Jakże się że nie był w tym starciu.\n",
      "< (400) \n",
      "< (401) \n",
      "< (402) BENWOLIO\n",
      "> (417) Wesołe słońce sprzed łoża Aurory\n",
      "< (408) Ku południowi od naszego miasta.Tam, już tak rano, syn wasz się przechadzał.\n",
      "> (422) I sztuczną sobie ciemnicę utwarzał.\n",
      "> (423) W czarne bezdroża dusza jego zajdzie,\n",
      "> (424) Jeśli się na to lekarstwo nie znajdzie.\n",
      "< (413) Mierząc mym własnym (serce nasze bowiem\n",
      "< (414) Jest najczynniejsze, kiedyśmy samotni),\n",
      "< (415) Nie przeszkadzałem mu w jego dumaniach\n",
      "> (431) \n",
      "> (432) MONTEKI\n",
      "< (422) o świcie już go tam widziano\n",
      "< (423) poranną rosę,\n",
      "> (438) \n",
      "< (429) Co tchu zamykał się w swoim pokoju;\n",
      "> (443) \n",
      "< (434) \n",
      "> (448) Jak pączek kwiatu, co go robak gryzie,\n",
      "< (439) \n",
      "> (453) \n",
      "< (444) \n",
      "> (456) \n",
      "< (447) \n",
      "> (469) \n",
      "< (460) Gdybyśmy mogli dojść tych trosk zarodka,\n",
      "> (474) \n",
      "< (465) \n",
      "< (466) BENWOLIO\n",
      "> (498) ROMEO\n",
      "< (490) \n",
      "> (508) ROMEO\n",
      "< (500) \n",
      "< (523)                         Jak to? brak miłości?\n",
      "> (532) Miłość na oślep zawsze cel swój goni!\n",
      "> (534) Jakiś spór? Nie mów mi o nim, wiem wszystko.\n",
      "< (526) ROMEO\n",
      "> (539) Odpychająca! Poważna pustoto!\n",
      "< (531) \n",
      "> (541) Jasna mgło! Zimny żarze! Martwy ruchu!\n",
      "< (533) Niestety! Czemuż, zdając się niebianką,\n",
      "> (543) Taką niełączność łączy moja miłość.\n",
      "< (535) \n",
      "> (546) \n",
      "< (538) \n",
      "> (550) \n",
      "< (542) Jakiś spór? Nie mów mi o nim, wiem wszystko.\n",
      "> (552) ROMEO\n",
      "< (544) O! wy sprzeczności niepojęte dziwa!\n",
      "> (574) Morze łez, w którym nieszczęśliwy tonie.\n",
      "< (566) \n",
      "> (577) Bądź zdrów.\n",
      "< (569) \n",
      "> (579) / chce odejść /\n",
      "< (571) ROMEO\n",
      "> (598) \n",
      "> (599) ROMEO\n",
      "< (590) BENWOLIO\n",
      "< (591) \n",
      "> (607) \n",
      "< (599) To nie Romeo, co z tobą.\n",
      "< (600) \n",
      "< (601) \n",
      "> (612) Pisać testament: będzie–ż to wezwanie\n",
      "< (606) \n",
      "> (614) A więc, kobietę kocham.\n",
      "< (608) Mam–że wraz jęczyć i mówić?BENWOLIO\n",
      "< (609) \n",
      "< (610)                         Nie jęczyć,\n",
      "< (611) Tylko mi klucz dać do tego problemu,\n",
      "> (616) \n",
      "< (613) \n",
      "> (622) \n",
      "< (619) \n",
      "< (620) BENWOLIO\n",
      "> (633) \n",
      "< (631) BENWOLIO\n",
      "> (638) Pod twardą zbroją wstydliwości swojej\n",
      "< (636) ROMEO\n",
      "> (645) Całe bogactwo, którego tak skąpi.\n",
      "> (646) \n",
      "< (643) Odpiera szturmy spojrzeń napastniczych;\n",
      "< (644) Nawet jej złota wszechwładztwo nie zjedna.\n",
      "> (650) \n",
      "< (648) \n",
      "> (652) \n",
      "> (654) Bo piękność, którą własna srogość strawia,\n",
      "> (657) Zbyt mądrze piękna: stąd istnym jest głazem.Przysięgła nigdy kochać i dzięki\n",
      "< (653) \n",
      "> (661) BENWOLIO\n",
      "> (662) \n",
      "> (663) Jest na to rada: przestań myśleć o niej.\n",
      "< (657) Tak i skąpstwo to jest marnotrawstwem,\n",
      "< (658) Bo piękność, którą własna srogość strawia,\n",
      "> (680) \n",
      "< (675) \n",
      "< (676) \n",
      "< (677) BENWOLIO\n",
      "< (678) \n",
      "< (679)                         Dając oczom wolność\n",
      "< (680) Rozpatrywania się w pięknościach.\n"
     ]
    }
   ],
   "source": [
    "diff()\n"
   ],
   "metadata": {
    "collapsed": false,
    "pycharm": {
     "name": "#%%\n"
    }
   }
  }
 ],
 "metadata": {
  "kernelspec": {
   "display_name": "Python 3",
   "language": "python",
   "name": "python3"
  },
  "language_info": {
   "codemirror_mode": {
    "name": "ipython",
    "version": 2
   },
   "file_extension": ".py",
   "mimetype": "text/x-python",
   "name": "python",
   "nbconvert_exporter": "python",
   "pygments_lexer": "ipython2",
   "version": "2.7.6"
  }
 },
 "nbformat": 4,
 "nbformat_minor": 0
}